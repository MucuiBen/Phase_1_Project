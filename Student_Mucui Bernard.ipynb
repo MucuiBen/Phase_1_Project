{
 "cells": [
  {
   "cell_type": "markdown",
   "metadata": {},
   "source": [
    "## Final Project Submission\n",
    "\n",
    "Please fill out:\n",
    "* Student name:   Mucui Bernard\n",
    "* Student pace:   part time\n",
    "* Scheduled project review date/time:   16/04/2023\n",
    "* Instructor name:  Everlyn Asiko\n",
    "* Blog post URL:\n"
   ]
  },
  {
   "cell_type": "markdown",
   "metadata": {},
   "source": [
    "# Introduction:\n",
    "\n",
    "Microsoft is launching a new movie studio and wants to understand the current market trends to make informed decisions about the type of movies to produce. In this exploratory analysis, we will focus on the original language, return on investment (ROI), and vote average to identify popular movie trends and help Microsoft make data-driven decisions.\n",
    "\n",
    "# Data:\n",
    "\n",
    "To perform this analysis, we will use data from various sources, including Box Office Mojo, IMDB, Rotten Tomatoes, The MovieDB, and The Numbers.\n",
    "These datasets contain essential information about movies, such as box office earnings, budget, language, and ratings.\n",
    "\n",
    "- bom.movie_gross.csv.gz: This dataset contains information about movie gross earnings, studio, and release date from Box Office Mojo.\n",
    "- tmdb.movies.csv.gz: This dataset contains information about movies including budget, revenue, genres, and release date from The Movie Database.\n",
    "- tn.movie_budgets.csv.gz: This dataset contains information about movie budgets, revenue, and release date from The Numbers.\n",
    "- rt.movie_info.tsv.gz: This dataset contains information about movie ratings, genres, directors, and actors from Rotten Tomatoes.\n",
    "\n",
    "We will use these datasets to explore the relationship between various features such as genre, budget, ratings, and box office performance.\n",
    "\n",
    "# Features of interest:\n",
    "\n",
    "We will focus on three main features to guide our analysis:\n",
    "\n",
    "- Original Language: We will explore the popularity of movies based on the original language used in production.\n",
    "- Return on Investment (ROI): We will investigate the correlation between a movie's budget and its box office performance to determine the ROI.\n",
    "- Vote Average: We will examine the relationship between a movie's vote average and its box office earnings to determine if movies with higher vote averages tend to perform better.\n",
    "\n",
    "- Overall, this analysis aims to provide Microsoft with insights on the popular movie trends based on language, ROI, and vote average to help them make informed decisions about their new movie studio."
   ]
  },
  {
   "cell_type": "markdown",
   "metadata": {},
   "source": [
    "# Loading the datasets:\n",
    "To load and manipulate the above datasets, we will need to import some Python libraries commonly used for data analysis and manipulation. These include:"
   ]
  },
  {
   "cell_type": "code",
   "execution_count": 1,
   "metadata": {},
   "outputs": [],
   "source": [
    "import pandas as pd\n",
    "import numpy as np\n",
    "import matplotlib.pyplot as plt\n",
    "%matplotlib inline\n",
    "import seaborn as sns\n",
    "import warnings\n",
    "warnings.filterwarnings(\"ignore\")"
   ]
  },
  {
   "cell_type": "markdown",
   "metadata": {},
   "source": [
    "Now that we have imported the necessary libraries, we can proceed to load the datasets. The datasets are stored in the \"zippedData\" folder and will need to be extracted before loading.\n",
    "\n",
    "To load the datasets, we will use the pd.read_csv() function from the pandas library. \n",
    "- We will read each dataset and store it in a separate dataframe.\n",
    "- We will repeat this process for each dataset we want to use in our analysis.\n",
    "\n",
    "Once the datasets are loaded, we can begin to explore and analyze the data."
   ]
  },
  {
   "cell_type": "code",
   "execution_count": 2,
   "metadata": {},
   "outputs": [],
   "source": [
    "# Load the bom.movie_gross.csv.gz file\n",
    "bom_df = pd.read_csv(\"zippedData/bom.movie_gross.csv.gz\")\n",
    "\n",
    "# Load the tmdb.movies.csv.gz file\n",
    "tmdb_df = pd.read_csv(\"zippedData/tmdb.movies.csv.gz\",index_col=0)\n",
    "\n",
    "# Load the tn.movie_budgets.csv.gz file\n",
    "tn_df = pd.read_csv(\"zippedData/tn.movie_budgets.csv.gz\")\n",
    "\n",
    "# Load the rt.movie_info.tsv.gz file\n",
    "rt_df = pd.read_table(\"zippedData/rt.movie_info.tsv.gz\")\n"
   ]
  },
  {
   "cell_type": "markdown",
   "metadata": {},
   "source": [
    "To verify that the datasets have been loaded correctly and to get a glimpse of what the data looks like, we will use the head() method in pandas to display the first five rows of each dataset.\n",
    "\n",
    "This will allow us to check that the data has been loaded correctly and to get a better understanding of the structure and format of the data."
   ]
  },
  {
   "cell_type": "code",
   "execution_count": 3,
   "metadata": {},
   "outputs": [
    {
     "data": {
      "text/html": [
       "<div>\n",
       "<style scoped>\n",
       "    .dataframe tbody tr th:only-of-type {\n",
       "        vertical-align: middle;\n",
       "    }\n",
       "\n",
       "    .dataframe tbody tr th {\n",
       "        vertical-align: top;\n",
       "    }\n",
       "\n",
       "    .dataframe thead th {\n",
       "        text-align: right;\n",
       "    }\n",
       "</style>\n",
       "<table border=\"1\" class=\"dataframe\">\n",
       "  <thead>\n",
       "    <tr style=\"text-align: right;\">\n",
       "      <th></th>\n",
       "      <th>title</th>\n",
       "      <th>studio</th>\n",
       "      <th>domestic_gross</th>\n",
       "      <th>foreign_gross</th>\n",
       "      <th>year</th>\n",
       "    </tr>\n",
       "  </thead>\n",
       "  <tbody>\n",
       "    <tr>\n",
       "      <th>0</th>\n",
       "      <td>Toy Story 3</td>\n",
       "      <td>BV</td>\n",
       "      <td>415000000.0</td>\n",
       "      <td>652000000</td>\n",
       "      <td>2010</td>\n",
       "    </tr>\n",
       "    <tr>\n",
       "      <th>1</th>\n",
       "      <td>Alice in Wonderland (2010)</td>\n",
       "      <td>BV</td>\n",
       "      <td>334200000.0</td>\n",
       "      <td>691300000</td>\n",
       "      <td>2010</td>\n",
       "    </tr>\n",
       "    <tr>\n",
       "      <th>2</th>\n",
       "      <td>Harry Potter and the Deathly Hallows Part 1</td>\n",
       "      <td>WB</td>\n",
       "      <td>296000000.0</td>\n",
       "      <td>664300000</td>\n",
       "      <td>2010</td>\n",
       "    </tr>\n",
       "    <tr>\n",
       "      <th>3</th>\n",
       "      <td>Inception</td>\n",
       "      <td>WB</td>\n",
       "      <td>292600000.0</td>\n",
       "      <td>535700000</td>\n",
       "      <td>2010</td>\n",
       "    </tr>\n",
       "    <tr>\n",
       "      <th>4</th>\n",
       "      <td>Shrek Forever After</td>\n",
       "      <td>P/DW</td>\n",
       "      <td>238700000.0</td>\n",
       "      <td>513900000</td>\n",
       "      <td>2010</td>\n",
       "    </tr>\n",
       "  </tbody>\n",
       "</table>\n",
       "</div>"
      ],
      "text/plain": [
       "                                         title studio  domestic_gross  \\\n",
       "0                                  Toy Story 3     BV     415000000.0   \n",
       "1                   Alice in Wonderland (2010)     BV     334200000.0   \n",
       "2  Harry Potter and the Deathly Hallows Part 1     WB     296000000.0   \n",
       "3                                    Inception     WB     292600000.0   \n",
       "4                          Shrek Forever After   P/DW     238700000.0   \n",
       "\n",
       "  foreign_gross  year  \n",
       "0     652000000  2010  \n",
       "1     691300000  2010  \n",
       "2     664300000  2010  \n",
       "3     535700000  2010  \n",
       "4     513900000  2010  "
      ]
     },
     "execution_count": 3,
     "metadata": {},
     "output_type": "execute_result"
    }
   ],
   "source": [
    "bom_df.head()"
   ]
  },
  {
   "cell_type": "code",
   "execution_count": 4,
   "metadata": {},
   "outputs": [
    {
     "data": {
      "text/html": [
       "<div>\n",
       "<style scoped>\n",
       "    .dataframe tbody tr th:only-of-type {\n",
       "        vertical-align: middle;\n",
       "    }\n",
       "\n",
       "    .dataframe tbody tr th {\n",
       "        vertical-align: top;\n",
       "    }\n",
       "\n",
       "    .dataframe thead th {\n",
       "        text-align: right;\n",
       "    }\n",
       "</style>\n",
       "<table border=\"1\" class=\"dataframe\">\n",
       "  <thead>\n",
       "    <tr style=\"text-align: right;\">\n",
       "      <th></th>\n",
       "      <th>genre_ids</th>\n",
       "      <th>id</th>\n",
       "      <th>original_language</th>\n",
       "      <th>original_title</th>\n",
       "      <th>popularity</th>\n",
       "      <th>release_date</th>\n",
       "      <th>title</th>\n",
       "      <th>vote_average</th>\n",
       "      <th>vote_count</th>\n",
       "    </tr>\n",
       "  </thead>\n",
       "  <tbody>\n",
       "    <tr>\n",
       "      <th>0</th>\n",
       "      <td>[12, 14, 10751]</td>\n",
       "      <td>12444</td>\n",
       "      <td>en</td>\n",
       "      <td>Harry Potter and the Deathly Hallows: Part 1</td>\n",
       "      <td>33.533</td>\n",
       "      <td>2010-11-19</td>\n",
       "      <td>Harry Potter and the Deathly Hallows: Part 1</td>\n",
       "      <td>7.7</td>\n",
       "      <td>10788</td>\n",
       "    </tr>\n",
       "    <tr>\n",
       "      <th>1</th>\n",
       "      <td>[14, 12, 16, 10751]</td>\n",
       "      <td>10191</td>\n",
       "      <td>en</td>\n",
       "      <td>How to Train Your Dragon</td>\n",
       "      <td>28.734</td>\n",
       "      <td>2010-03-26</td>\n",
       "      <td>How to Train Your Dragon</td>\n",
       "      <td>7.7</td>\n",
       "      <td>7610</td>\n",
       "    </tr>\n",
       "    <tr>\n",
       "      <th>2</th>\n",
       "      <td>[12, 28, 878]</td>\n",
       "      <td>10138</td>\n",
       "      <td>en</td>\n",
       "      <td>Iron Man 2</td>\n",
       "      <td>28.515</td>\n",
       "      <td>2010-05-07</td>\n",
       "      <td>Iron Man 2</td>\n",
       "      <td>6.8</td>\n",
       "      <td>12368</td>\n",
       "    </tr>\n",
       "    <tr>\n",
       "      <th>3</th>\n",
       "      <td>[16, 35, 10751]</td>\n",
       "      <td>862</td>\n",
       "      <td>en</td>\n",
       "      <td>Toy Story</td>\n",
       "      <td>28.005</td>\n",
       "      <td>1995-11-22</td>\n",
       "      <td>Toy Story</td>\n",
       "      <td>7.9</td>\n",
       "      <td>10174</td>\n",
       "    </tr>\n",
       "    <tr>\n",
       "      <th>4</th>\n",
       "      <td>[28, 878, 12]</td>\n",
       "      <td>27205</td>\n",
       "      <td>en</td>\n",
       "      <td>Inception</td>\n",
       "      <td>27.920</td>\n",
       "      <td>2010-07-16</td>\n",
       "      <td>Inception</td>\n",
       "      <td>8.3</td>\n",
       "      <td>22186</td>\n",
       "    </tr>\n",
       "  </tbody>\n",
       "</table>\n",
       "</div>"
      ],
      "text/plain": [
       "             genre_ids     id original_language  \\\n",
       "0      [12, 14, 10751]  12444                en   \n",
       "1  [14, 12, 16, 10751]  10191                en   \n",
       "2        [12, 28, 878]  10138                en   \n",
       "3      [16, 35, 10751]    862                en   \n",
       "4        [28, 878, 12]  27205                en   \n",
       "\n",
       "                                 original_title  popularity release_date  \\\n",
       "0  Harry Potter and the Deathly Hallows: Part 1      33.533   2010-11-19   \n",
       "1                      How to Train Your Dragon      28.734   2010-03-26   \n",
       "2                                    Iron Man 2      28.515   2010-05-07   \n",
       "3                                     Toy Story      28.005   1995-11-22   \n",
       "4                                     Inception      27.920   2010-07-16   \n",
       "\n",
       "                                          title  vote_average  vote_count  \n",
       "0  Harry Potter and the Deathly Hallows: Part 1           7.7       10788  \n",
       "1                      How to Train Your Dragon           7.7        7610  \n",
       "2                                    Iron Man 2           6.8       12368  \n",
       "3                                     Toy Story           7.9       10174  \n",
       "4                                     Inception           8.3       22186  "
      ]
     },
     "execution_count": 4,
     "metadata": {},
     "output_type": "execute_result"
    }
   ],
   "source": [
    "tmdb_df.head()"
   ]
  },
  {
   "cell_type": "code",
   "execution_count": 5,
   "metadata": {},
   "outputs": [
    {
     "data": {
      "text/html": [
       "<div>\n",
       "<style scoped>\n",
       "    .dataframe tbody tr th:only-of-type {\n",
       "        vertical-align: middle;\n",
       "    }\n",
       "\n",
       "    .dataframe tbody tr th {\n",
       "        vertical-align: top;\n",
       "    }\n",
       "\n",
       "    .dataframe thead th {\n",
       "        text-align: right;\n",
       "    }\n",
       "</style>\n",
       "<table border=\"1\" class=\"dataframe\">\n",
       "  <thead>\n",
       "    <tr style=\"text-align: right;\">\n",
       "      <th></th>\n",
       "      <th>id</th>\n",
       "      <th>release_date</th>\n",
       "      <th>movie</th>\n",
       "      <th>production_budget</th>\n",
       "      <th>domestic_gross</th>\n",
       "      <th>worldwide_gross</th>\n",
       "    </tr>\n",
       "  </thead>\n",
       "  <tbody>\n",
       "    <tr>\n",
       "      <th>0</th>\n",
       "      <td>1</td>\n",
       "      <td>Dec 18, 2009</td>\n",
       "      <td>Avatar</td>\n",
       "      <td>$425,000,000</td>\n",
       "      <td>$760,507,625</td>\n",
       "      <td>$2,776,345,279</td>\n",
       "    </tr>\n",
       "    <tr>\n",
       "      <th>1</th>\n",
       "      <td>2</td>\n",
       "      <td>May 20, 2011</td>\n",
       "      <td>Pirates of the Caribbean: On Stranger Tides</td>\n",
       "      <td>$410,600,000</td>\n",
       "      <td>$241,063,875</td>\n",
       "      <td>$1,045,663,875</td>\n",
       "    </tr>\n",
       "    <tr>\n",
       "      <th>2</th>\n",
       "      <td>3</td>\n",
       "      <td>Jun 7, 2019</td>\n",
       "      <td>Dark Phoenix</td>\n",
       "      <td>$350,000,000</td>\n",
       "      <td>$42,762,350</td>\n",
       "      <td>$149,762,350</td>\n",
       "    </tr>\n",
       "    <tr>\n",
       "      <th>3</th>\n",
       "      <td>4</td>\n",
       "      <td>May 1, 2015</td>\n",
       "      <td>Avengers: Age of Ultron</td>\n",
       "      <td>$330,600,000</td>\n",
       "      <td>$459,005,868</td>\n",
       "      <td>$1,403,013,963</td>\n",
       "    </tr>\n",
       "    <tr>\n",
       "      <th>4</th>\n",
       "      <td>5</td>\n",
       "      <td>Dec 15, 2017</td>\n",
       "      <td>Star Wars Ep. VIII: The Last Jedi</td>\n",
       "      <td>$317,000,000</td>\n",
       "      <td>$620,181,382</td>\n",
       "      <td>$1,316,721,747</td>\n",
       "    </tr>\n",
       "  </tbody>\n",
       "</table>\n",
       "</div>"
      ],
      "text/plain": [
       "   id  release_date                                        movie  \\\n",
       "0   1  Dec 18, 2009                                       Avatar   \n",
       "1   2  May 20, 2011  Pirates of the Caribbean: On Stranger Tides   \n",
       "2   3   Jun 7, 2019                                 Dark Phoenix   \n",
       "3   4   May 1, 2015                      Avengers: Age of Ultron   \n",
       "4   5  Dec 15, 2017            Star Wars Ep. VIII: The Last Jedi   \n",
       "\n",
       "  production_budget domestic_gross worldwide_gross  \n",
       "0      $425,000,000   $760,507,625  $2,776,345,279  \n",
       "1      $410,600,000   $241,063,875  $1,045,663,875  \n",
       "2      $350,000,000    $42,762,350    $149,762,350  \n",
       "3      $330,600,000   $459,005,868  $1,403,013,963  \n",
       "4      $317,000,000   $620,181,382  $1,316,721,747  "
      ]
     },
     "execution_count": 5,
     "metadata": {},
     "output_type": "execute_result"
    }
   ],
   "source": [
    "tn_df.head()"
   ]
  },
  {
   "cell_type": "code",
   "execution_count": 6,
   "metadata": {},
   "outputs": [
    {
     "data": {
      "text/html": [
       "<div>\n",
       "<style scoped>\n",
       "    .dataframe tbody tr th:only-of-type {\n",
       "        vertical-align: middle;\n",
       "    }\n",
       "\n",
       "    .dataframe tbody tr th {\n",
       "        vertical-align: top;\n",
       "    }\n",
       "\n",
       "    .dataframe thead th {\n",
       "        text-align: right;\n",
       "    }\n",
       "</style>\n",
       "<table border=\"1\" class=\"dataframe\">\n",
       "  <thead>\n",
       "    <tr style=\"text-align: right;\">\n",
       "      <th></th>\n",
       "      <th>id</th>\n",
       "      <th>synopsis</th>\n",
       "      <th>rating</th>\n",
       "      <th>genre</th>\n",
       "      <th>director</th>\n",
       "      <th>writer</th>\n",
       "      <th>theater_date</th>\n",
       "      <th>dvd_date</th>\n",
       "      <th>currency</th>\n",
       "      <th>box_office</th>\n",
       "      <th>runtime</th>\n",
       "      <th>studio</th>\n",
       "    </tr>\n",
       "  </thead>\n",
       "  <tbody>\n",
       "    <tr>\n",
       "      <th>0</th>\n",
       "      <td>1</td>\n",
       "      <td>This gritty, fast-paced, and innovative police...</td>\n",
       "      <td>R</td>\n",
       "      <td>Action and Adventure|Classics|Drama</td>\n",
       "      <td>William Friedkin</td>\n",
       "      <td>Ernest Tidyman</td>\n",
       "      <td>Oct 9, 1971</td>\n",
       "      <td>Sep 25, 2001</td>\n",
       "      <td>NaN</td>\n",
       "      <td>NaN</td>\n",
       "      <td>104 minutes</td>\n",
       "      <td>NaN</td>\n",
       "    </tr>\n",
       "    <tr>\n",
       "      <th>1</th>\n",
       "      <td>3</td>\n",
       "      <td>New York City, not-too-distant-future: Eric Pa...</td>\n",
       "      <td>R</td>\n",
       "      <td>Drama|Science Fiction and Fantasy</td>\n",
       "      <td>David Cronenberg</td>\n",
       "      <td>David Cronenberg|Don DeLillo</td>\n",
       "      <td>Aug 17, 2012</td>\n",
       "      <td>Jan 1, 2013</td>\n",
       "      <td>$</td>\n",
       "      <td>600,000</td>\n",
       "      <td>108 minutes</td>\n",
       "      <td>Entertainment One</td>\n",
       "    </tr>\n",
       "    <tr>\n",
       "      <th>2</th>\n",
       "      <td>5</td>\n",
       "      <td>Illeana Douglas delivers a superb performance ...</td>\n",
       "      <td>R</td>\n",
       "      <td>Drama|Musical and Performing Arts</td>\n",
       "      <td>Allison Anders</td>\n",
       "      <td>Allison Anders</td>\n",
       "      <td>Sep 13, 1996</td>\n",
       "      <td>Apr 18, 2000</td>\n",
       "      <td>NaN</td>\n",
       "      <td>NaN</td>\n",
       "      <td>116 minutes</td>\n",
       "      <td>NaN</td>\n",
       "    </tr>\n",
       "    <tr>\n",
       "      <th>3</th>\n",
       "      <td>6</td>\n",
       "      <td>Michael Douglas runs afoul of a treacherous su...</td>\n",
       "      <td>R</td>\n",
       "      <td>Drama|Mystery and Suspense</td>\n",
       "      <td>Barry Levinson</td>\n",
       "      <td>Paul Attanasio|Michael Crichton</td>\n",
       "      <td>Dec 9, 1994</td>\n",
       "      <td>Aug 27, 1997</td>\n",
       "      <td>NaN</td>\n",
       "      <td>NaN</td>\n",
       "      <td>128 minutes</td>\n",
       "      <td>NaN</td>\n",
       "    </tr>\n",
       "    <tr>\n",
       "      <th>4</th>\n",
       "      <td>7</td>\n",
       "      <td>NaN</td>\n",
       "      <td>NR</td>\n",
       "      <td>Drama|Romance</td>\n",
       "      <td>Rodney Bennett</td>\n",
       "      <td>Giles Cooper</td>\n",
       "      <td>NaN</td>\n",
       "      <td>NaN</td>\n",
       "      <td>NaN</td>\n",
       "      <td>NaN</td>\n",
       "      <td>200 minutes</td>\n",
       "      <td>NaN</td>\n",
       "    </tr>\n",
       "  </tbody>\n",
       "</table>\n",
       "</div>"
      ],
      "text/plain": [
       "   id                                           synopsis rating  \\\n",
       "0   1  This gritty, fast-paced, and innovative police...      R   \n",
       "1   3  New York City, not-too-distant-future: Eric Pa...      R   \n",
       "2   5  Illeana Douglas delivers a superb performance ...      R   \n",
       "3   6  Michael Douglas runs afoul of a treacherous su...      R   \n",
       "4   7                                                NaN     NR   \n",
       "\n",
       "                                 genre          director  \\\n",
       "0  Action and Adventure|Classics|Drama  William Friedkin   \n",
       "1    Drama|Science Fiction and Fantasy  David Cronenberg   \n",
       "2    Drama|Musical and Performing Arts    Allison Anders   \n",
       "3           Drama|Mystery and Suspense    Barry Levinson   \n",
       "4                        Drama|Romance    Rodney Bennett   \n",
       "\n",
       "                            writer  theater_date      dvd_date currency  \\\n",
       "0                   Ernest Tidyman   Oct 9, 1971  Sep 25, 2001      NaN   \n",
       "1     David Cronenberg|Don DeLillo  Aug 17, 2012   Jan 1, 2013        $   \n",
       "2                   Allison Anders  Sep 13, 1996  Apr 18, 2000      NaN   \n",
       "3  Paul Attanasio|Michael Crichton   Dec 9, 1994  Aug 27, 1997      NaN   \n",
       "4                     Giles Cooper           NaN           NaN      NaN   \n",
       "\n",
       "  box_office      runtime             studio  \n",
       "0        NaN  104 minutes                NaN  \n",
       "1    600,000  108 minutes  Entertainment One  \n",
       "2        NaN  116 minutes                NaN  \n",
       "3        NaN  128 minutes                NaN  \n",
       "4        NaN  200 minutes                NaN  "
      ]
     },
     "execution_count": 6,
     "metadata": {},
     "output_type": "execute_result"
    }
   ],
   "source": [
    "rt_df.head()"
   ]
  },
  {
   "cell_type": "markdown",
   "metadata": {},
   "source": [
    "# Exploring the datasets:\n",
    "\n",
    "Before we start analyzing the data, we need to explore the datasets to understand their structure and format. Here are some steps we can take to explore the data:\n",
    "\n",
    "- We can start by checking the shape of each dataframe, which will give us the number of rows and columns in each dataset.\n",
    "- Next, we can use the info() method to get an overview of the data types in each column and check for any missing values.\n",
    "- To get a better idea of what the data looks like, we can take a random sample of rows from each dataset.\n",
    "- We can also use the .describe() method to get summary statistics for the numerical columns in the dataframes.\n",
    "- To check for missing values in each column, we can use the .isnull() method to create a boolean mask and then use the .sum() method to get the count of missing values per column.\n",
    "- Finally, we can check for any duplicates in the dataset using the .duplicated() method and get the count of duplicates using the .sum() method."
   ]
  },
  {
   "cell_type": "markdown",
   "metadata": {},
   "source": [
    " # Exploring dataset 1: bom_df"
   ]
  },
  {
   "cell_type": "code",
   "execution_count": 7,
   "metadata": {},
   "outputs": [
    {
     "data": {
      "text/plain": [
       "(3387, 5)"
      ]
     },
     "execution_count": 7,
     "metadata": {},
     "output_type": "execute_result"
    }
   ],
   "source": [
    "# Check the number of rows and columns in each dataframe\n",
    "bom_df.shape"
   ]
  },
  {
   "cell_type": "code",
   "execution_count": 8,
   "metadata": {},
   "outputs": [
    {
     "name": "stdout",
     "output_type": "stream",
     "text": [
      "<class 'pandas.core.frame.DataFrame'>\n",
      "RangeIndex: 3387 entries, 0 to 3386\n",
      "Data columns (total 5 columns):\n",
      " #   Column          Non-Null Count  Dtype  \n",
      "---  ------          --------------  -----  \n",
      " 0   title           3387 non-null   object \n",
      " 1   studio          3382 non-null   object \n",
      " 2   domestic_gross  3359 non-null   float64\n",
      " 3   foreign_gross   2037 non-null   object \n",
      " 4   year            3387 non-null   int64  \n",
      "dtypes: float64(1), int64(1), object(3)\n",
      "memory usage: 132.4+ KB\n"
     ]
    }
   ],
   "source": [
    "# Get an overview of the data types of each column, and check if there are any missing values\n",
    "bom_df.info()"
   ]
  },
  {
   "cell_type": "code",
   "execution_count": 9,
   "metadata": {},
   "outputs": [
    {
     "data": {
      "text/html": [
       "<div>\n",
       "<style scoped>\n",
       "    .dataframe tbody tr th:only-of-type {\n",
       "        vertical-align: middle;\n",
       "    }\n",
       "\n",
       "    .dataframe tbody tr th {\n",
       "        vertical-align: top;\n",
       "    }\n",
       "\n",
       "    .dataframe thead th {\n",
       "        text-align: right;\n",
       "    }\n",
       "</style>\n",
       "<table border=\"1\" class=\"dataframe\">\n",
       "  <thead>\n",
       "    <tr style=\"text-align: right;\">\n",
       "      <th></th>\n",
       "      <th>title</th>\n",
       "      <th>studio</th>\n",
       "      <th>domestic_gross</th>\n",
       "      <th>foreign_gross</th>\n",
       "      <th>year</th>\n",
       "    </tr>\n",
       "  </thead>\n",
       "  <tbody>\n",
       "    <tr>\n",
       "      <th>104</th>\n",
       "      <td>The Switch</td>\n",
       "      <td>Mira.</td>\n",
       "      <td>27800000.0</td>\n",
       "      <td>22100000</td>\n",
       "      <td>2010</td>\n",
       "    </tr>\n",
       "    <tr>\n",
       "      <th>3334</th>\n",
       "      <td>The Captain</td>\n",
       "      <td>MBox</td>\n",
       "      <td>109000.0</td>\n",
       "      <td>NaN</td>\n",
       "      <td>2018</td>\n",
       "    </tr>\n",
       "    <tr>\n",
       "      <th>513</th>\n",
       "      <td>In a Better World</td>\n",
       "      <td>SPC</td>\n",
       "      <td>1000000.0</td>\n",
       "      <td>8600000</td>\n",
       "      <td>2011</td>\n",
       "    </tr>\n",
       "    <tr>\n",
       "      <th>326</th>\n",
       "      <td>Kimjongilia</td>\n",
       "      <td>Lorb.</td>\n",
       "      <td>4400.0</td>\n",
       "      <td>NaN</td>\n",
       "      <td>2010</td>\n",
       "    </tr>\n",
       "    <tr>\n",
       "      <th>343</th>\n",
       "      <td>The Adventures of Tintin</td>\n",
       "      <td>Par.</td>\n",
       "      <td>77600000.0</td>\n",
       "      <td>296400000</td>\n",
       "      <td>2011</td>\n",
       "    </tr>\n",
       "  </tbody>\n",
       "</table>\n",
       "</div>"
      ],
      "text/plain": [
       "                         title studio  domestic_gross foreign_gross  year\n",
       "104                 The Switch  Mira.      27800000.0      22100000  2010\n",
       "3334               The Captain   MBox        109000.0           NaN  2018\n",
       "513          In a Better World    SPC       1000000.0       8600000  2011\n",
       "326                Kimjongilia  Lorb.          4400.0           NaN  2010\n",
       "343   The Adventures of Tintin   Par.      77600000.0     296400000  2011"
      ]
     },
     "execution_count": 9,
     "metadata": {},
     "output_type": "execute_result"
    }
   ],
   "source": [
    "# View a few random rows of the dataframe to get a sense of what the data looks like\n",
    "bom_df.sample(5)"
   ]
  },
  {
   "cell_type": "code",
   "execution_count": 10,
   "metadata": {},
   "outputs": [
    {
     "data": {
      "text/html": [
       "<div>\n",
       "<style scoped>\n",
       "    .dataframe tbody tr th:only-of-type {\n",
       "        vertical-align: middle;\n",
       "    }\n",
       "\n",
       "    .dataframe tbody tr th {\n",
       "        vertical-align: top;\n",
       "    }\n",
       "\n",
       "    .dataframe thead th {\n",
       "        text-align: right;\n",
       "    }\n",
       "</style>\n",
       "<table border=\"1\" class=\"dataframe\">\n",
       "  <thead>\n",
       "    <tr style=\"text-align: right;\">\n",
       "      <th></th>\n",
       "      <th>domestic_gross</th>\n",
       "      <th>year</th>\n",
       "    </tr>\n",
       "  </thead>\n",
       "  <tbody>\n",
       "    <tr>\n",
       "      <th>count</th>\n",
       "      <td>3.359000e+03</td>\n",
       "      <td>3387.000000</td>\n",
       "    </tr>\n",
       "    <tr>\n",
       "      <th>mean</th>\n",
       "      <td>2.874585e+07</td>\n",
       "      <td>2013.958075</td>\n",
       "    </tr>\n",
       "    <tr>\n",
       "      <th>std</th>\n",
       "      <td>6.698250e+07</td>\n",
       "      <td>2.478141</td>\n",
       "    </tr>\n",
       "    <tr>\n",
       "      <th>min</th>\n",
       "      <td>1.000000e+02</td>\n",
       "      <td>2010.000000</td>\n",
       "    </tr>\n",
       "    <tr>\n",
       "      <th>25%</th>\n",
       "      <td>1.200000e+05</td>\n",
       "      <td>2012.000000</td>\n",
       "    </tr>\n",
       "    <tr>\n",
       "      <th>50%</th>\n",
       "      <td>1.400000e+06</td>\n",
       "      <td>2014.000000</td>\n",
       "    </tr>\n",
       "    <tr>\n",
       "      <th>75%</th>\n",
       "      <td>2.790000e+07</td>\n",
       "      <td>2016.000000</td>\n",
       "    </tr>\n",
       "    <tr>\n",
       "      <th>max</th>\n",
       "      <td>9.367000e+08</td>\n",
       "      <td>2018.000000</td>\n",
       "    </tr>\n",
       "  </tbody>\n",
       "</table>\n",
       "</div>"
      ],
      "text/plain": [
       "       domestic_gross         year\n",
       "count    3.359000e+03  3387.000000\n",
       "mean     2.874585e+07  2013.958075\n",
       "std      6.698250e+07     2.478141\n",
       "min      1.000000e+02  2010.000000\n",
       "25%      1.200000e+05  2012.000000\n",
       "50%      1.400000e+06  2014.000000\n",
       "75%      2.790000e+07  2016.000000\n",
       "max      9.367000e+08  2018.000000"
      ]
     },
     "execution_count": 10,
     "metadata": {},
     "output_type": "execute_result"
    }
   ],
   "source": [
    "# Generate summary statistics for the numeric columns in the dataframe\n",
    "bom_df.describe()"
   ]
  },
  {
   "cell_type": "code",
   "execution_count": 11,
   "metadata": {},
   "outputs": [
    {
     "data": {
      "text/plain": [
       "title                0\n",
       "studio               5\n",
       "domestic_gross      28\n",
       "foreign_gross     1350\n",
       "year                 0\n",
       "dtype: int64"
      ]
     },
     "execution_count": 11,
     "metadata": {},
     "output_type": "execute_result"
    }
   ],
   "source": [
    "bom_df.isnull().sum()"
   ]
  },
  {
   "cell_type": "code",
   "execution_count": 12,
   "metadata": {},
   "outputs": [
    {
     "data": {
      "text/plain": [
       "0"
      ]
     },
     "execution_count": 12,
     "metadata": {},
     "output_type": "execute_result"
    }
   ],
   "source": [
    "bom_df.duplicated().sum()"
   ]
  },
  {
   "cell_type": "markdown",
   "metadata": {},
   "source": [
    "# Exploring dataset 2: tmdb_df"
   ]
  },
  {
   "cell_type": "code",
   "execution_count": 13,
   "metadata": {},
   "outputs": [
    {
     "data": {
      "text/plain": [
       "(26517, 9)"
      ]
     },
     "execution_count": 13,
     "metadata": {},
     "output_type": "execute_result"
    }
   ],
   "source": [
    "# Check the number of rows and columns in each dataframe\n",
    "tmdb_df.shape"
   ]
  },
  {
   "cell_type": "code",
   "execution_count": 14,
   "metadata": {},
   "outputs": [
    {
     "name": "stdout",
     "output_type": "stream",
     "text": [
      "<class 'pandas.core.frame.DataFrame'>\n",
      "Int64Index: 26517 entries, 0 to 26516\n",
      "Data columns (total 9 columns):\n",
      " #   Column             Non-Null Count  Dtype  \n",
      "---  ------             --------------  -----  \n",
      " 0   genre_ids          26517 non-null  object \n",
      " 1   id                 26517 non-null  int64  \n",
      " 2   original_language  26517 non-null  object \n",
      " 3   original_title     26517 non-null  object \n",
      " 4   popularity         26517 non-null  float64\n",
      " 5   release_date       26517 non-null  object \n",
      " 6   title              26517 non-null  object \n",
      " 7   vote_average       26517 non-null  float64\n",
      " 8   vote_count         26517 non-null  int64  \n",
      "dtypes: float64(2), int64(2), object(5)\n",
      "memory usage: 2.0+ MB\n"
     ]
    }
   ],
   "source": [
    "# Get an overview of the data types of each column, and check if there are any missing values\n",
    "tmdb_df.info()"
   ]
  },
  {
   "cell_type": "code",
   "execution_count": 15,
   "metadata": {},
   "outputs": [
    {
     "data": {
      "text/html": [
       "<div>\n",
       "<style scoped>\n",
       "    .dataframe tbody tr th:only-of-type {\n",
       "        vertical-align: middle;\n",
       "    }\n",
       "\n",
       "    .dataframe tbody tr th {\n",
       "        vertical-align: top;\n",
       "    }\n",
       "\n",
       "    .dataframe thead th {\n",
       "        text-align: right;\n",
       "    }\n",
       "</style>\n",
       "<table border=\"1\" class=\"dataframe\">\n",
       "  <thead>\n",
       "    <tr style=\"text-align: right;\">\n",
       "      <th></th>\n",
       "      <th>genre_ids</th>\n",
       "      <th>id</th>\n",
       "      <th>original_language</th>\n",
       "      <th>original_title</th>\n",
       "      <th>popularity</th>\n",
       "      <th>release_date</th>\n",
       "      <th>title</th>\n",
       "      <th>vote_average</th>\n",
       "      <th>vote_count</th>\n",
       "    </tr>\n",
       "  </thead>\n",
       "  <tbody>\n",
       "    <tr>\n",
       "      <th>20241</th>\n",
       "      <td>[18, 28]</td>\n",
       "      <td>523640</td>\n",
       "      <td>en</td>\n",
       "      <td>Fade Away</td>\n",
       "      <td>0.600</td>\n",
       "      <td>2016-01-01</td>\n",
       "      <td>Fade Away</td>\n",
       "      <td>6.0</td>\n",
       "      <td>1</td>\n",
       "    </tr>\n",
       "    <tr>\n",
       "      <th>20565</th>\n",
       "      <td>[]</td>\n",
       "      <td>393154</td>\n",
       "      <td>en</td>\n",
       "      <td>The Amityville Legacy</td>\n",
       "      <td>0.600</td>\n",
       "      <td>2016-06-01</td>\n",
       "      <td>The Amityville Legacy</td>\n",
       "      <td>1.7</td>\n",
       "      <td>3</td>\n",
       "    </tr>\n",
       "    <tr>\n",
       "      <th>14290</th>\n",
       "      <td>[35, 27]</td>\n",
       "      <td>246741</td>\n",
       "      <td>en</td>\n",
       "      <td>What We Do in the Shadows</td>\n",
       "      <td>11.186</td>\n",
       "      <td>2015-02-13</td>\n",
       "      <td>What We Do in the Shadows</td>\n",
       "      <td>7.6</td>\n",
       "      <td>1594</td>\n",
       "    </tr>\n",
       "    <tr>\n",
       "      <th>19926</th>\n",
       "      <td>[18]</td>\n",
       "      <td>467965</td>\n",
       "      <td>en</td>\n",
       "      <td>The Next Two Nights</td>\n",
       "      <td>0.600</td>\n",
       "      <td>2016-10-15</td>\n",
       "      <td>The Next Two Nights</td>\n",
       "      <td>9.0</td>\n",
       "      <td>1</td>\n",
       "    </tr>\n",
       "    <tr>\n",
       "      <th>22699</th>\n",
       "      <td>[53, 18]</td>\n",
       "      <td>365886</td>\n",
       "      <td>en</td>\n",
       "      <td>Chasing Valentine</td>\n",
       "      <td>0.840</td>\n",
       "      <td>2015-10-23</td>\n",
       "      <td>Chasing Valentine</td>\n",
       "      <td>5.5</td>\n",
       "      <td>3</td>\n",
       "    </tr>\n",
       "  </tbody>\n",
       "</table>\n",
       "</div>"
      ],
      "text/plain": [
       "      genre_ids      id original_language             original_title  \\\n",
       "20241  [18, 28]  523640                en                  Fade Away   \n",
       "20565        []  393154                en      The Amityville Legacy   \n",
       "14290  [35, 27]  246741                en  What We Do in the Shadows   \n",
       "19926      [18]  467965                en        The Next Two Nights   \n",
       "22699  [53, 18]  365886                en          Chasing Valentine   \n",
       "\n",
       "       popularity release_date                      title  vote_average  \\\n",
       "20241       0.600   2016-01-01                  Fade Away           6.0   \n",
       "20565       0.600   2016-06-01      The Amityville Legacy           1.7   \n",
       "14290      11.186   2015-02-13  What We Do in the Shadows           7.6   \n",
       "19926       0.600   2016-10-15        The Next Two Nights           9.0   \n",
       "22699       0.840   2015-10-23          Chasing Valentine           5.5   \n",
       "\n",
       "       vote_count  \n",
       "20241           1  \n",
       "20565           3  \n",
       "14290        1594  \n",
       "19926           1  \n",
       "22699           3  "
      ]
     },
     "execution_count": 15,
     "metadata": {},
     "output_type": "execute_result"
    }
   ],
   "source": [
    "# View a few random rows of the dataframe to get a sense of what the data looks like\n",
    "tmdb_df.sample(5)"
   ]
  },
  {
   "cell_type": "code",
   "execution_count": 16,
   "metadata": {},
   "outputs": [
    {
     "data": {
      "text/html": [
       "<div>\n",
       "<style scoped>\n",
       "    .dataframe tbody tr th:only-of-type {\n",
       "        vertical-align: middle;\n",
       "    }\n",
       "\n",
       "    .dataframe tbody tr th {\n",
       "        vertical-align: top;\n",
       "    }\n",
       "\n",
       "    .dataframe thead th {\n",
       "        text-align: right;\n",
       "    }\n",
       "</style>\n",
       "<table border=\"1\" class=\"dataframe\">\n",
       "  <thead>\n",
       "    <tr style=\"text-align: right;\">\n",
       "      <th></th>\n",
       "      <th>id</th>\n",
       "      <th>popularity</th>\n",
       "      <th>vote_average</th>\n",
       "      <th>vote_count</th>\n",
       "    </tr>\n",
       "  </thead>\n",
       "  <tbody>\n",
       "    <tr>\n",
       "      <th>count</th>\n",
       "      <td>26517.000000</td>\n",
       "      <td>26517.000000</td>\n",
       "      <td>26517.000000</td>\n",
       "      <td>26517.000000</td>\n",
       "    </tr>\n",
       "    <tr>\n",
       "      <th>mean</th>\n",
       "      <td>295050.153260</td>\n",
       "      <td>3.130912</td>\n",
       "      <td>5.991281</td>\n",
       "      <td>194.224837</td>\n",
       "    </tr>\n",
       "    <tr>\n",
       "      <th>std</th>\n",
       "      <td>153661.615648</td>\n",
       "      <td>4.355229</td>\n",
       "      <td>1.852946</td>\n",
       "      <td>960.961095</td>\n",
       "    </tr>\n",
       "    <tr>\n",
       "      <th>min</th>\n",
       "      <td>27.000000</td>\n",
       "      <td>0.600000</td>\n",
       "      <td>0.000000</td>\n",
       "      <td>1.000000</td>\n",
       "    </tr>\n",
       "    <tr>\n",
       "      <th>25%</th>\n",
       "      <td>157851.000000</td>\n",
       "      <td>0.600000</td>\n",
       "      <td>5.000000</td>\n",
       "      <td>2.000000</td>\n",
       "    </tr>\n",
       "    <tr>\n",
       "      <th>50%</th>\n",
       "      <td>309581.000000</td>\n",
       "      <td>1.374000</td>\n",
       "      <td>6.000000</td>\n",
       "      <td>5.000000</td>\n",
       "    </tr>\n",
       "    <tr>\n",
       "      <th>75%</th>\n",
       "      <td>419542.000000</td>\n",
       "      <td>3.694000</td>\n",
       "      <td>7.000000</td>\n",
       "      <td>28.000000</td>\n",
       "    </tr>\n",
       "    <tr>\n",
       "      <th>max</th>\n",
       "      <td>608444.000000</td>\n",
       "      <td>80.773000</td>\n",
       "      <td>10.000000</td>\n",
       "      <td>22186.000000</td>\n",
       "    </tr>\n",
       "  </tbody>\n",
       "</table>\n",
       "</div>"
      ],
      "text/plain": [
       "                  id    popularity  vote_average    vote_count\n",
       "count   26517.000000  26517.000000  26517.000000  26517.000000\n",
       "mean   295050.153260      3.130912      5.991281    194.224837\n",
       "std    153661.615648      4.355229      1.852946    960.961095\n",
       "min        27.000000      0.600000      0.000000      1.000000\n",
       "25%    157851.000000      0.600000      5.000000      2.000000\n",
       "50%    309581.000000      1.374000      6.000000      5.000000\n",
       "75%    419542.000000      3.694000      7.000000     28.000000\n",
       "max    608444.000000     80.773000     10.000000  22186.000000"
      ]
     },
     "execution_count": 16,
     "metadata": {},
     "output_type": "execute_result"
    }
   ],
   "source": [
    "# Generate summary statistics for the numeric columns in the dataframe\n",
    "tmdb_df.describe()"
   ]
  },
  {
   "cell_type": "code",
   "execution_count": 17,
   "metadata": {},
   "outputs": [
    {
     "data": {
      "text/plain": [
       "genre_ids            0\n",
       "id                   0\n",
       "original_language    0\n",
       "original_title       0\n",
       "popularity           0\n",
       "release_date         0\n",
       "title                0\n",
       "vote_average         0\n",
       "vote_count           0\n",
       "dtype: int64"
      ]
     },
     "execution_count": 17,
     "metadata": {},
     "output_type": "execute_result"
    }
   ],
   "source": [
    "tmdb_df.isnull().sum()"
   ]
  },
  {
   "cell_type": "code",
   "execution_count": 18,
   "metadata": {},
   "outputs": [
    {
     "data": {
      "text/plain": [
       "1020"
      ]
     },
     "execution_count": 18,
     "metadata": {},
     "output_type": "execute_result"
    }
   ],
   "source": [
    "tmdb_df.duplicated().sum()"
   ]
  },
  {
   "cell_type": "markdown",
   "metadata": {},
   "source": [
    "# Exploring dataset 3: tn_df"
   ]
  },
  {
   "cell_type": "code",
   "execution_count": 19,
   "metadata": {},
   "outputs": [
    {
     "name": "stdout",
     "output_type": "stream",
     "text": [
      "(5782, 6)\n"
     ]
    }
   ],
   "source": [
    "# Check the number of rows and columns in each dataframe\n",
    "print(tn_df.shape)"
   ]
  },
  {
   "cell_type": "code",
   "execution_count": 20,
   "metadata": {},
   "outputs": [
    {
     "name": "stdout",
     "output_type": "stream",
     "text": [
      "<class 'pandas.core.frame.DataFrame'>\n",
      "RangeIndex: 5782 entries, 0 to 5781\n",
      "Data columns (total 6 columns):\n",
      " #   Column             Non-Null Count  Dtype \n",
      "---  ------             --------------  ----- \n",
      " 0   id                 5782 non-null   int64 \n",
      " 1   release_date       5782 non-null   object\n",
      " 2   movie              5782 non-null   object\n",
      " 3   production_budget  5782 non-null   object\n",
      " 4   domestic_gross     5782 non-null   object\n",
      " 5   worldwide_gross    5782 non-null   object\n",
      "dtypes: int64(1), object(5)\n",
      "memory usage: 271.2+ KB\n",
      "None\n"
     ]
    }
   ],
   "source": [
    "# Get an overview of the data types of each column, and check if there are any missing values\n",
    "print(tn_df.info())\n"
   ]
  },
  {
   "cell_type": "code",
   "execution_count": 21,
   "metadata": {},
   "outputs": [
    {
     "data": {
      "text/html": [
       "<div>\n",
       "<style scoped>\n",
       "    .dataframe tbody tr th:only-of-type {\n",
       "        vertical-align: middle;\n",
       "    }\n",
       "\n",
       "    .dataframe tbody tr th {\n",
       "        vertical-align: top;\n",
       "    }\n",
       "\n",
       "    .dataframe thead th {\n",
       "        text-align: right;\n",
       "    }\n",
       "</style>\n",
       "<table border=\"1\" class=\"dataframe\">\n",
       "  <thead>\n",
       "    <tr style=\"text-align: right;\">\n",
       "      <th></th>\n",
       "      <th>id</th>\n",
       "      <th>release_date</th>\n",
       "      <th>movie</th>\n",
       "      <th>production_budget</th>\n",
       "      <th>domestic_gross</th>\n",
       "      <th>worldwide_gross</th>\n",
       "    </tr>\n",
       "  </thead>\n",
       "  <tbody>\n",
       "    <tr>\n",
       "      <th>5286</th>\n",
       "      <td>87</td>\n",
       "      <td>Aug 31, 2001</td>\n",
       "      <td>Speedway Junky</td>\n",
       "      <td>$1,000,000</td>\n",
       "      <td>$17,127</td>\n",
       "      <td>$17,127</td>\n",
       "    </tr>\n",
       "    <tr>\n",
       "      <th>2273</th>\n",
       "      <td>74</td>\n",
       "      <td>Sep 9, 2011</td>\n",
       "      <td>Warrior</td>\n",
       "      <td>$25,000,000</td>\n",
       "      <td>$13,657,115</td>\n",
       "      <td>$24,215,385</td>\n",
       "    </tr>\n",
       "    <tr>\n",
       "      <th>1767</th>\n",
       "      <td>68</td>\n",
       "      <td>Sep 5, 2014</td>\n",
       "      <td>Thunder and the House of Magic</td>\n",
       "      <td>$34,000,000</td>\n",
       "      <td>$4,091</td>\n",
       "      <td>$62,582,520</td>\n",
       "    </tr>\n",
       "    <tr>\n",
       "      <th>1738</th>\n",
       "      <td>39</td>\n",
       "      <td>Mar 11, 2016</td>\n",
       "      <td>The Brothers Grimsby</td>\n",
       "      <td>$35,000,000</td>\n",
       "      <td>$6,864,016</td>\n",
       "      <td>$28,720,470</td>\n",
       "    </tr>\n",
       "    <tr>\n",
       "      <th>1834</th>\n",
       "      <td>35</td>\n",
       "      <td>Oct 20, 1995</td>\n",
       "      <td>Get Shorty</td>\n",
       "      <td>$30,250,000</td>\n",
       "      <td>$72,021,008</td>\n",
       "      <td>$115,021,008</td>\n",
       "    </tr>\n",
       "  </tbody>\n",
       "</table>\n",
       "</div>"
      ],
      "text/plain": [
       "      id  release_date                           movie production_budget  \\\n",
       "5286  87  Aug 31, 2001                  Speedway Junky        $1,000,000   \n",
       "2273  74   Sep 9, 2011                         Warrior       $25,000,000   \n",
       "1767  68   Sep 5, 2014  Thunder and the House of Magic       $34,000,000   \n",
       "1738  39  Mar 11, 2016            The Brothers Grimsby       $35,000,000   \n",
       "1834  35  Oct 20, 1995                      Get Shorty       $30,250,000   \n",
       "\n",
       "     domestic_gross worldwide_gross  \n",
       "5286        $17,127         $17,127  \n",
       "2273    $13,657,115     $24,215,385  \n",
       "1767         $4,091     $62,582,520  \n",
       "1738     $6,864,016     $28,720,470  \n",
       "1834    $72,021,008    $115,021,008  "
      ]
     },
     "execution_count": 21,
     "metadata": {},
     "output_type": "execute_result"
    }
   ],
   "source": [
    "# View a few random rows of the dataframe to get a sense of what the data looks like\n",
    "tn_df.sample(5)"
   ]
  },
  {
   "cell_type": "code",
   "execution_count": 22,
   "metadata": {},
   "outputs": [
    {
     "name": "stdout",
     "output_type": "stream",
     "text": [
      "                id\n",
      "count  5782.000000\n",
      "mean     50.372363\n",
      "std      28.821076\n",
      "min       1.000000\n",
      "25%      25.000000\n",
      "50%      50.000000\n",
      "75%      75.000000\n",
      "max     100.000000\n"
     ]
    }
   ],
   "source": [
    "# Generate summary statistics for the numeric columns in the dataframe\n",
    "print(tn_df.describe())"
   ]
  },
  {
   "cell_type": "code",
   "execution_count": 23,
   "metadata": {},
   "outputs": [
    {
     "data": {
      "text/plain": [
       "id                   0\n",
       "release_date         0\n",
       "movie                0\n",
       "production_budget    0\n",
       "domestic_gross       0\n",
       "worldwide_gross      0\n",
       "dtype: int64"
      ]
     },
     "execution_count": 23,
     "metadata": {},
     "output_type": "execute_result"
    }
   ],
   "source": [
    "#check count of null values in the columns\n",
    "tn_df.isnull().sum()"
   ]
  },
  {
   "cell_type": "code",
   "execution_count": 24,
   "metadata": {},
   "outputs": [
    {
     "data": {
      "text/plain": [
       "0"
      ]
     },
     "execution_count": 24,
     "metadata": {},
     "output_type": "execute_result"
    }
   ],
   "source": [
    "#check count of if duplicates rows in the datasets\n",
    "tn_df.duplicated().sum()"
   ]
  },
  {
   "cell_type": "markdown",
   "metadata": {},
   "source": [
    "# Explore dataset 4: rt_df"
   ]
  },
  {
   "cell_type": "code",
   "execution_count": 25,
   "metadata": {},
   "outputs": [
    {
     "name": "stdout",
     "output_type": "stream",
     "text": [
      "(1560, 12)\n"
     ]
    }
   ],
   "source": [
    "# Check the number of rows and columns in each dataframe\n",
    "print(rt_df.shape)\n"
   ]
  },
  {
   "cell_type": "code",
   "execution_count": 26,
   "metadata": {},
   "outputs": [
    {
     "name": "stdout",
     "output_type": "stream",
     "text": [
      "<class 'pandas.core.frame.DataFrame'>\n",
      "RangeIndex: 1560 entries, 0 to 1559\n",
      "Data columns (total 12 columns):\n",
      " #   Column        Non-Null Count  Dtype \n",
      "---  ------        --------------  ----- \n",
      " 0   id            1560 non-null   int64 \n",
      " 1   synopsis      1498 non-null   object\n",
      " 2   rating        1557 non-null   object\n",
      " 3   genre         1552 non-null   object\n",
      " 4   director      1361 non-null   object\n",
      " 5   writer        1111 non-null   object\n",
      " 6   theater_date  1201 non-null   object\n",
      " 7   dvd_date      1201 non-null   object\n",
      " 8   currency      340 non-null    object\n",
      " 9   box_office    340 non-null    object\n",
      " 10  runtime       1530 non-null   object\n",
      " 11  studio        494 non-null    object\n",
      "dtypes: int64(1), object(11)\n",
      "memory usage: 146.4+ KB\n",
      "None\n"
     ]
    }
   ],
   "source": [
    "# Get an overview of the data types of each column, and check if there are any missing values\n",
    "print(rt_df.info())\n"
   ]
  },
  {
   "cell_type": "code",
   "execution_count": 27,
   "metadata": {},
   "outputs": [
    {
     "data": {
      "text/html": [
       "<div>\n",
       "<style scoped>\n",
       "    .dataframe tbody tr th:only-of-type {\n",
       "        vertical-align: middle;\n",
       "    }\n",
       "\n",
       "    .dataframe tbody tr th {\n",
       "        vertical-align: top;\n",
       "    }\n",
       "\n",
       "    .dataframe thead th {\n",
       "        text-align: right;\n",
       "    }\n",
       "</style>\n",
       "<table border=\"1\" class=\"dataframe\">\n",
       "  <thead>\n",
       "    <tr style=\"text-align: right;\">\n",
       "      <th></th>\n",
       "      <th>id</th>\n",
       "      <th>synopsis</th>\n",
       "      <th>rating</th>\n",
       "      <th>genre</th>\n",
       "      <th>director</th>\n",
       "      <th>writer</th>\n",
       "      <th>theater_date</th>\n",
       "      <th>dvd_date</th>\n",
       "      <th>currency</th>\n",
       "      <th>box_office</th>\n",
       "      <th>runtime</th>\n",
       "      <th>studio</th>\n",
       "    </tr>\n",
       "  </thead>\n",
       "  <tbody>\n",
       "    <tr>\n",
       "      <th>462</th>\n",
       "      <td>605</td>\n",
       "      <td>Saturday Night Live star Chris Farley had his ...</td>\n",
       "      <td>PG-13</td>\n",
       "      <td>Comedy|Special Interest</td>\n",
       "      <td>Peter Segal</td>\n",
       "      <td>Bonnie Turner</td>\n",
       "      <td>Mar 31, 1995</td>\n",
       "      <td>Nov 9, 1999</td>\n",
       "      <td>NaN</td>\n",
       "      <td>NaN</td>\n",
       "      <td>95 minutes</td>\n",
       "      <td>NaN</td>\n",
       "    </tr>\n",
       "    <tr>\n",
       "      <th>468</th>\n",
       "      <td>612</td>\n",
       "      <td>Actors Woody Harrelson and Wesley Snipes team ...</td>\n",
       "      <td>R</td>\n",
       "      <td>Action and Adventure|Comedy|Drama|Mystery and ...</td>\n",
       "      <td>Joseph Ruben</td>\n",
       "      <td>David Loughery|Doug Richardson</td>\n",
       "      <td>Nov 22, 1995</td>\n",
       "      <td>May 22, 2001</td>\n",
       "      <td>NaN</td>\n",
       "      <td>NaN</td>\n",
       "      <td>110 minutes</td>\n",
       "      <td>NaN</td>\n",
       "    </tr>\n",
       "    <tr>\n",
       "      <th>1464</th>\n",
       "      <td>1884</td>\n",
       "      <td>What do you get when you mix fearless comedic ...</td>\n",
       "      <td>PG-13</td>\n",
       "      <td>Comedy</td>\n",
       "      <td>David Zucker</td>\n",
       "      <td>Craig Mazin|David Zucker</td>\n",
       "      <td>Apr 14, 2006</td>\n",
       "      <td>Aug 15, 2006</td>\n",
       "      <td>$</td>\n",
       "      <td>90,672,025</td>\n",
       "      <td>83 minutes</td>\n",
       "      <td>Weinstein Co.</td>\n",
       "    </tr>\n",
       "    <tr>\n",
       "      <th>1292</th>\n",
       "      <td>1669</td>\n",
       "      <td>In a world where journalism is under attack, M...</td>\n",
       "      <td>R</td>\n",
       "      <td>Drama</td>\n",
       "      <td>Matthew Heineman</td>\n",
       "      <td>Arash Amel</td>\n",
       "      <td>NaN</td>\n",
       "      <td>NaN</td>\n",
       "      <td>NaN</td>\n",
       "      <td>NaN</td>\n",
       "      <td>106 minutes</td>\n",
       "      <td>Aviron Pictures</td>\n",
       "    </tr>\n",
       "    <tr>\n",
       "      <th>1264</th>\n",
       "      <td>1631</td>\n",
       "      <td>Originally issued under the title Appuntamento...</td>\n",
       "      <td>NR</td>\n",
       "      <td>Art House and International|Mystery and Suspense</td>\n",
       "      <td>Antonio Bonifacio</td>\n",
       "      <td>NaN</td>\n",
       "      <td>NaN</td>\n",
       "      <td>NaN</td>\n",
       "      <td>NaN</td>\n",
       "      <td>NaN</td>\n",
       "      <td>88 minutes</td>\n",
       "      <td>NaN</td>\n",
       "    </tr>\n",
       "  </tbody>\n",
       "</table>\n",
       "</div>"
      ],
      "text/plain": [
       "        id                                           synopsis rating  \\\n",
       "462    605  Saturday Night Live star Chris Farley had his ...  PG-13   \n",
       "468    612  Actors Woody Harrelson and Wesley Snipes team ...      R   \n",
       "1464  1884  What do you get when you mix fearless comedic ...  PG-13   \n",
       "1292  1669  In a world where journalism is under attack, M...      R   \n",
       "1264  1631  Originally issued under the title Appuntamento...     NR   \n",
       "\n",
       "                                                  genre           director  \\\n",
       "462                             Comedy|Special Interest        Peter Segal   \n",
       "468   Action and Adventure|Comedy|Drama|Mystery and ...       Joseph Ruben   \n",
       "1464                                             Comedy       David Zucker   \n",
       "1292                                              Drama   Matthew Heineman   \n",
       "1264   Art House and International|Mystery and Suspense  Antonio Bonifacio   \n",
       "\n",
       "                              writer  theater_date      dvd_date currency  \\\n",
       "462                    Bonnie Turner  Mar 31, 1995   Nov 9, 1999      NaN   \n",
       "468   David Loughery|Doug Richardson  Nov 22, 1995  May 22, 2001      NaN   \n",
       "1464        Craig Mazin|David Zucker  Apr 14, 2006  Aug 15, 2006        $   \n",
       "1292                      Arash Amel           NaN           NaN      NaN   \n",
       "1264                             NaN           NaN           NaN      NaN   \n",
       "\n",
       "      box_office      runtime           studio  \n",
       "462          NaN   95 minutes              NaN  \n",
       "468          NaN  110 minutes              NaN  \n",
       "1464  90,672,025   83 minutes    Weinstein Co.  \n",
       "1292         NaN  106 minutes  Aviron Pictures  \n",
       "1264         NaN   88 minutes              NaN  "
      ]
     },
     "execution_count": 27,
     "metadata": {},
     "output_type": "execute_result"
    }
   ],
   "source": [
    "# View a few random rows of the dataframe to get a sense of what the data looks like\n",
    "rt_df.sample(5)\n"
   ]
  },
  {
   "cell_type": "code",
   "execution_count": 28,
   "metadata": {},
   "outputs": [
    {
     "name": "stdout",
     "output_type": "stream",
     "text": [
      "                id\n",
      "count  1560.000000\n",
      "mean   1007.303846\n",
      "std     579.164527\n",
      "min       1.000000\n",
      "25%     504.750000\n",
      "50%    1007.500000\n",
      "75%    1503.250000\n",
      "max    2000.000000\n"
     ]
    }
   ],
   "source": [
    "# Generate summary statistics for the numeric columns in the dataframe\n",
    "print(rt_df.describe())\n"
   ]
  },
  {
   "cell_type": "code",
   "execution_count": 29,
   "metadata": {},
   "outputs": [
    {
     "name": "stdout",
     "output_type": "stream",
     "text": [
      "id                 0\n",
      "synopsis          62\n",
      "rating             3\n",
      "genre              8\n",
      "director         199\n",
      "writer           449\n",
      "theater_date     359\n",
      "dvd_date         359\n",
      "currency        1220\n",
      "box_office      1220\n",
      "runtime           30\n",
      "studio          1066\n",
      "dtype: int64\n"
     ]
    }
   ],
   "source": [
    "#Let check for count of null values in the columns\n",
    "print(rt_df.isnull().sum())\n"
   ]
  },
  {
   "cell_type": "code",
   "execution_count": 30,
   "metadata": {},
   "outputs": [
    {
     "name": "stdout",
     "output_type": "stream",
     "text": [
      "0\n"
     ]
    }
   ],
   "source": [
    "#let's check for duplicates\n",
    "print(rt_df.duplicated().sum())"
   ]
  },
  {
   "cell_type": "markdown",
   "metadata": {},
   "source": [
    "# Cleaning  the datasets:\n",
    "To clean our datasets, we will follow these steps:\n",
    "\n",
    "We will address missing values in our datasets by using methods like dropna(), fillna(), or leaving the columns as they are if the missing values are not significant.\n",
    "\n",
    "We will convert the data types of columns to the correct format using the astype() method.\n",
    "\n",
    "We will also consider dropping unnecessary columns using the drop() method."
   ]
  },
  {
   "cell_type": "markdown",
   "metadata": {},
   "source": [
    "To start with the bom_df dataset,which has missing values in the studio column,\n",
    "- We intend to drop them since there are very few missing values and it's not easy to replace a categorical column.\n",
    "- For the domestic_gross column, which has 28 missing values, we will replace the missing values with the mean.\n",
    "- For the foreign_gross column, which has 1,350 missing values, there's a possibility that there were no international releases,  so we will assign a value of 0.\n",
    "- Lastly, we will convert the year column to an object and the foreign_gross column to a float data type."
   ]
  },
  {
   "cell_type": "code",
   "execution_count": 31,
   "metadata": {},
   "outputs": [],
   "source": [
    "bom_df[\"studio\"] = bom_df[\"studio\"].dropna()\n",
    "bom_df[\"foreign_gross\"] = bom_df[\"foreign_gross\"].fillna(0)\n",
    "bom_df[\"studio\"] = bom_df[\"studio\"].dropna()\n",
    "bom_df[\"domestic_gross\"] = bom_df[\"domestic_gross\"].fillna(bom_df[\"domestic_gross\"].mean())\n"
   ]
  },
  {
   "cell_type": "code",
   "execution_count": 32,
   "metadata": {},
   "outputs": [],
   "source": [
    "bom_df[\"year\"] = bom_df[\"year\"].astype(str)\n",
    "bom_df['foreign_gross'] = bom_df['foreign_gross'].str.replace('$', '').str.replace(',', '').astype(float)"
   ]
  },
  {
   "cell_type": "code",
   "execution_count": 33,
   "metadata": {},
   "outputs": [
    {
     "name": "stdout",
     "output_type": "stream",
     "text": [
      "<class 'pandas.core.frame.DataFrame'>\n",
      "RangeIndex: 3387 entries, 0 to 3386\n",
      "Data columns (total 5 columns):\n",
      " #   Column          Non-Null Count  Dtype  \n",
      "---  ------          --------------  -----  \n",
      " 0   title           3387 non-null   object \n",
      " 1   studio          3382 non-null   object \n",
      " 2   domestic_gross  3387 non-null   float64\n",
      " 3   foreign_gross   2037 non-null   float64\n",
      " 4   year            3387 non-null   object \n",
      "dtypes: float64(2), object(3)\n",
      "memory usage: 132.4+ KB\n"
     ]
    }
   ],
   "source": [
    "bom_df.info()"
   ]
  },
  {
   "cell_type": "code",
   "execution_count": 34,
   "metadata": {},
   "outputs": [
    {
     "data": {
      "text/plain": [
       "title                0\n",
       "studio               5\n",
       "domestic_gross       0\n",
       "foreign_gross     1350\n",
       "year                 0\n",
       "dtype: int64"
      ]
     },
     "execution_count": 34,
     "metadata": {},
     "output_type": "execute_result"
    }
   ],
   "source": [
    "bom_df.isnull().sum()"
   ]
  },
  {
   "cell_type": "markdown",
   "metadata": {},
   "source": [
    "Let's proceed to dataset 2,\n",
    "tmdb_df has some duplicates rows, we will drop them\n",
    "\n",
    "secondly ,we will drop the id column since it doesn't add any value to our analysis considering it's not a unique identifier of our dataset."
   ]
  },
  {
   "cell_type": "code",
   "execution_count": 35,
   "metadata": {},
   "outputs": [],
   "source": [
    "tmdb_df = tmdb_df.drop_duplicates()"
   ]
  },
  {
   "cell_type": "code",
   "execution_count": 36,
   "metadata": {},
   "outputs": [],
   "source": [
    "tmdb_df = tmdb_df.drop(\"id\", axis=1)"
   ]
  },
  {
   "cell_type": "code",
   "execution_count": 37,
   "metadata": {},
   "outputs": [
    {
     "data": {
      "text/plain": [
       "0"
      ]
     },
     "execution_count": 37,
     "metadata": {},
     "output_type": "execute_result"
    }
   ],
   "source": [
    "tmdb_df.duplicated().sum()"
   ]
  },
  {
   "cell_type": "markdown",
   "metadata": {},
   "source": [
    "During our exploration of Dataset 3 (tn_df), we discovered that the columns 'production_budget', 'domestic_gross', and 'worldwide_gross' have the wrong data types and are currently stored as objects. \n",
    "- To ensure consistency in column naming across the datasets, we will rename the 'movie' column to 'title'. \n",
    "- To enable us to conduct summary statistics on the aforementioned columns, we need to convert them to float data type."
   ]
  },
  {
   "cell_type": "code",
   "execution_count": 38,
   "metadata": {},
   "outputs": [],
   "source": [
    "tn_df[\"production_budget\"] = tn_df[\"production_budget\"].str.replace('$', '').str.replace(',', '').astype(int)\n",
    "tn_df[\"domestic_gross\"] = tn_df[\"domestic_gross\"].str.replace('$', '').str.replace(',', '').astype(float)\n",
    "tn_df[\"worldwide_gross\"] = tn_df[\"worldwide_gross\"].str.replace('$', '').str.replace(',', '').astype(float)\n",
    "tn_df.rename(columns={'movie': 'title'}, inplace=True)"
   ]
  },
  {
   "cell_type": "code",
   "execution_count": 39,
   "metadata": {},
   "outputs": [
    {
     "name": "stdout",
     "output_type": "stream",
     "text": [
      "<class 'pandas.core.frame.DataFrame'>\n",
      "RangeIndex: 5782 entries, 0 to 5781\n",
      "Data columns (total 6 columns):\n",
      " #   Column             Non-Null Count  Dtype  \n",
      "---  ------             --------------  -----  \n",
      " 0   id                 5782 non-null   int64  \n",
      " 1   release_date       5782 non-null   object \n",
      " 2   title              5782 non-null   object \n",
      " 3   production_budget  5782 non-null   int32  \n",
      " 4   domestic_gross     5782 non-null   float64\n",
      " 5   worldwide_gross    5782 non-null   float64\n",
      "dtypes: float64(2), int32(1), int64(1), object(2)\n",
      "memory usage: 248.6+ KB\n"
     ]
    }
   ],
   "source": [
    "tn_df.info()"
   ]
  },
  {
   "cell_type": "markdown",
   "metadata": {},
   "source": [
    "In Dataset 4 (rt_df), we observed that almost all columns have missing data, and since most of them are categorical, it may not be feasible to fill in the missing values.\n",
    "Therefore, we will drop any column with more than 70% missing data. Specifically, we will drop the columns 'currency' and 'box_office'"
   ]
  },
  {
   "cell_type": "code",
   "execution_count": 40,
   "metadata": {},
   "outputs": [],
   "source": [
    "rt_df = rt_df.drop(\"currency\",axis=1)"
   ]
  },
  {
   "cell_type": "code",
   "execution_count": 41,
   "metadata": {},
   "outputs": [
    {
     "name": "stdout",
     "output_type": "stream",
     "text": [
      "<class 'pandas.core.frame.DataFrame'>\n",
      "RangeIndex: 1560 entries, 0 to 1559\n",
      "Data columns (total 11 columns):\n",
      " #   Column        Non-Null Count  Dtype \n",
      "---  ------        --------------  ----- \n",
      " 0   id            1560 non-null   int64 \n",
      " 1   synopsis      1498 non-null   object\n",
      " 2   rating        1557 non-null   object\n",
      " 3   genre         1552 non-null   object\n",
      " 4   director      1361 non-null   object\n",
      " 5   writer        1111 non-null   object\n",
      " 6   theater_date  1201 non-null   object\n",
      " 7   dvd_date      1201 non-null   object\n",
      " 8   box_office    340 non-null    object\n",
      " 9   runtime       1530 non-null   object\n",
      " 10  studio        494 non-null    object\n",
      "dtypes: int64(1), object(10)\n",
      "memory usage: 134.2+ KB\n"
     ]
    }
   ],
   "source": [
    "rt_df.info()"
   ]
  },
  {
   "cell_type": "code",
   "execution_count": 42,
   "metadata": {},
   "outputs": [],
   "source": [
    "rt_df= rt_df.loc[:, ['box_office', 'studio','runtime','genre','rating' ]]"
   ]
  },
  {
   "cell_type": "code",
   "execution_count": 43,
   "metadata": {},
   "outputs": [
    {
     "name": "stdout",
     "output_type": "stream",
     "text": [
      "<class 'pandas.core.frame.DataFrame'>\n",
      "RangeIndex: 1560 entries, 0 to 1559\n",
      "Data columns (total 5 columns):\n",
      " #   Column      Non-Null Count  Dtype \n",
      "---  ------      --------------  ----- \n",
      " 0   box_office  340 non-null    object\n",
      " 1   studio      494 non-null    object\n",
      " 2   runtime     1530 non-null   object\n",
      " 3   genre       1552 non-null   object\n",
      " 4   rating      1557 non-null   object\n",
      "dtypes: object(5)\n",
      "memory usage: 61.1+ KB\n"
     ]
    }
   ],
   "source": [
    "rt_df.info()"
   ]
  },
  {
   "cell_type": "code",
   "execution_count": 44,
   "metadata": {},
   "outputs": [
    {
     "data": {
      "text/plain": [
       "box_office    1220\n",
       "studio        1066\n",
       "runtime         30\n",
       "genre            8\n",
       "rating           3\n",
       "dtype: int64"
      ]
     },
     "execution_count": 44,
     "metadata": {},
     "output_type": "execute_result"
    }
   ],
   "source": [
    "rt_df.isnull().sum()"
   ]
  },
  {
   "cell_type": "markdown",
   "metadata": {},
   "source": [
    "# Merging the  datasets\n",
    "\n",
    "After cleaning and exploring the datasets, we are now ready to merge the datasets of interest that will allow us to conduct further analysis to answer our research question/hypothesis.\n",
    "\n",
    "We will merge three dataframes: bom_df, tmdb_df, and tn_df. These dataframes have a common column named title/movie, which we will use as the key to merge the datasets."
   ]
  },
  {
   "cell_type": "code",
   "execution_count": 45,
   "metadata": {},
   "outputs": [
    {
     "name": "stdout",
     "output_type": "stream",
     "text": [
      "Index(['title', 'studio', 'domestic_gross', 'foreign_gross', 'year'], dtype='object')\n",
      "Index(['genre_ids', 'original_language', 'original_title', 'popularity',\n",
      "       'release_date', 'title', 'vote_average', 'vote_count'],\n",
      "      dtype='object')\n",
      "Index(['id', 'release_date', 'title', 'production_budget', 'domestic_gross',\n",
      "       'worldwide_gross'],\n",
      "      dtype='object')\n"
     ]
    }
   ],
   "source": [
    "#let's confirm the columns in the selected 3 datasets\n",
    "print(bom_df.columns)\n",
    "print(tmdb_df.columns)\n",
    "print(tn_df.columns)"
   ]
  },
  {
   "cell_type": "code",
   "execution_count": 46,
   "metadata": {},
   "outputs": [
    {
     "data": {
      "text/html": [
       "<div>\n",
       "<style scoped>\n",
       "    .dataframe tbody tr th:only-of-type {\n",
       "        vertical-align: middle;\n",
       "    }\n",
       "\n",
       "    .dataframe tbody tr th {\n",
       "        vertical-align: top;\n",
       "    }\n",
       "\n",
       "    .dataframe thead th {\n",
       "        text-align: right;\n",
       "    }\n",
       "</style>\n",
       "<table border=\"1\" class=\"dataframe\">\n",
       "  <thead>\n",
       "    <tr style=\"text-align: right;\">\n",
       "      <th></th>\n",
       "      <th>title</th>\n",
       "      <th>studio</th>\n",
       "      <th>domestic_gross</th>\n",
       "      <th>foreign_gross</th>\n",
       "      <th>year</th>\n",
       "      <th>genre_ids</th>\n",
       "      <th>original_language</th>\n",
       "      <th>original_title</th>\n",
       "      <th>popularity</th>\n",
       "      <th>release_date</th>\n",
       "      <th>vote_average</th>\n",
       "      <th>vote_count</th>\n",
       "    </tr>\n",
       "  </thead>\n",
       "  <tbody>\n",
       "    <tr>\n",
       "      <th>0</th>\n",
       "      <td>Toy Story 3</td>\n",
       "      <td>BV</td>\n",
       "      <td>415000000.0</td>\n",
       "      <td>652000000.0</td>\n",
       "      <td>2010</td>\n",
       "      <td>[16, 10751, 35]</td>\n",
       "      <td>en</td>\n",
       "      <td>Toy Story 3</td>\n",
       "      <td>24.445</td>\n",
       "      <td>2010-06-17</td>\n",
       "      <td>7.7</td>\n",
       "      <td>8340</td>\n",
       "    </tr>\n",
       "    <tr>\n",
       "      <th>1</th>\n",
       "      <td>Inception</td>\n",
       "      <td>WB</td>\n",
       "      <td>292600000.0</td>\n",
       "      <td>535700000.0</td>\n",
       "      <td>2010</td>\n",
       "      <td>[28, 878, 12]</td>\n",
       "      <td>en</td>\n",
       "      <td>Inception</td>\n",
       "      <td>27.920</td>\n",
       "      <td>2010-07-16</td>\n",
       "      <td>8.3</td>\n",
       "      <td>22186</td>\n",
       "    </tr>\n",
       "    <tr>\n",
       "      <th>2</th>\n",
       "      <td>Shrek Forever After</td>\n",
       "      <td>P/DW</td>\n",
       "      <td>238700000.0</td>\n",
       "      <td>513900000.0</td>\n",
       "      <td>2010</td>\n",
       "      <td>[35, 12, 14, 16, 10751]</td>\n",
       "      <td>en</td>\n",
       "      <td>Shrek Forever After</td>\n",
       "      <td>15.041</td>\n",
       "      <td>2010-05-16</td>\n",
       "      <td>6.1</td>\n",
       "      <td>3843</td>\n",
       "    </tr>\n",
       "    <tr>\n",
       "      <th>3</th>\n",
       "      <td>The Twilight Saga: Eclipse</td>\n",
       "      <td>Sum.</td>\n",
       "      <td>300500000.0</td>\n",
       "      <td>398000000.0</td>\n",
       "      <td>2010</td>\n",
       "      <td>[12, 14, 18, 10749]</td>\n",
       "      <td>en</td>\n",
       "      <td>The Twilight Saga: Eclipse</td>\n",
       "      <td>20.340</td>\n",
       "      <td>2010-06-23</td>\n",
       "      <td>6.0</td>\n",
       "      <td>4909</td>\n",
       "    </tr>\n",
       "    <tr>\n",
       "      <th>4</th>\n",
       "      <td>Iron Man 2</td>\n",
       "      <td>Par.</td>\n",
       "      <td>312400000.0</td>\n",
       "      <td>311500000.0</td>\n",
       "      <td>2010</td>\n",
       "      <td>[12, 28, 878]</td>\n",
       "      <td>en</td>\n",
       "      <td>Iron Man 2</td>\n",
       "      <td>28.515</td>\n",
       "      <td>2010-05-07</td>\n",
       "      <td>6.8</td>\n",
       "      <td>12368</td>\n",
       "    </tr>\n",
       "  </tbody>\n",
       "</table>\n",
       "</div>"
      ],
      "text/plain": [
       "                        title studio  domestic_gross  foreign_gross  year  \\\n",
       "0                 Toy Story 3     BV     415000000.0    652000000.0  2010   \n",
       "1                   Inception     WB     292600000.0    535700000.0  2010   \n",
       "2         Shrek Forever After   P/DW     238700000.0    513900000.0  2010   \n",
       "3  The Twilight Saga: Eclipse   Sum.     300500000.0    398000000.0  2010   \n",
       "4                  Iron Man 2   Par.     312400000.0    311500000.0  2010   \n",
       "\n",
       "                 genre_ids original_language              original_title  \\\n",
       "0          [16, 10751, 35]                en                 Toy Story 3   \n",
       "1            [28, 878, 12]                en                   Inception   \n",
       "2  [35, 12, 14, 16, 10751]                en         Shrek Forever After   \n",
       "3      [12, 14, 18, 10749]                en  The Twilight Saga: Eclipse   \n",
       "4            [12, 28, 878]                en                  Iron Man 2   \n",
       "\n",
       "   popularity release_date  vote_average  vote_count  \n",
       "0      24.445   2010-06-17           7.7        8340  \n",
       "1      27.920   2010-07-16           8.3       22186  \n",
       "2      15.041   2010-05-16           6.1        3843  \n",
       "3      20.340   2010-06-23           6.0        4909  \n",
       "4      28.515   2010-05-07           6.8       12368  "
      ]
     },
     "execution_count": 46,
     "metadata": {},
     "output_type": "execute_result"
    }
   ],
   "source": [
    "# let's merge the first two datasets bom_df and tmdb_df and assign it to a variable name , merged_df1\n",
    "Merged_df1= pd.merge(bom_df,tmdb_df ,on='title',how = \"inner\")\n",
    "Merged_df1.head()"
   ]
  },
  {
   "cell_type": "code",
   "execution_count": 47,
   "metadata": {},
   "outputs": [
    {
     "data": {
      "text/html": [
       "<div>\n",
       "<style scoped>\n",
       "    .dataframe tbody tr th:only-of-type {\n",
       "        vertical-align: middle;\n",
       "    }\n",
       "\n",
       "    .dataframe tbody tr th {\n",
       "        vertical-align: top;\n",
       "    }\n",
       "\n",
       "    .dataframe thead th {\n",
       "        text-align: right;\n",
       "    }\n",
       "</style>\n",
       "<table border=\"1\" class=\"dataframe\">\n",
       "  <thead>\n",
       "    <tr style=\"text-align: right;\">\n",
       "      <th></th>\n",
       "      <th>title</th>\n",
       "      <th>studio</th>\n",
       "      <th>domestic_gross_x</th>\n",
       "      <th>foreign_gross</th>\n",
       "      <th>year</th>\n",
       "      <th>genre_ids</th>\n",
       "      <th>original_language</th>\n",
       "      <th>original_title</th>\n",
       "      <th>popularity</th>\n",
       "      <th>release_date_x</th>\n",
       "      <th>vote_average</th>\n",
       "      <th>vote_count</th>\n",
       "      <th>id</th>\n",
       "      <th>release_date_y</th>\n",
       "      <th>production_budget</th>\n",
       "      <th>domestic_gross_y</th>\n",
       "      <th>worldwide_gross</th>\n",
       "    </tr>\n",
       "  </thead>\n",
       "  <tbody>\n",
       "    <tr>\n",
       "      <th>0</th>\n",
       "      <td>Toy Story 3</td>\n",
       "      <td>BV</td>\n",
       "      <td>415000000.0</td>\n",
       "      <td>652000000.0</td>\n",
       "      <td>2010</td>\n",
       "      <td>[16, 10751, 35]</td>\n",
       "      <td>en</td>\n",
       "      <td>Toy Story 3</td>\n",
       "      <td>24.445</td>\n",
       "      <td>2010-06-17</td>\n",
       "      <td>7.7</td>\n",
       "      <td>8340</td>\n",
       "      <td>47</td>\n",
       "      <td>Jun 18, 2010</td>\n",
       "      <td>200000000</td>\n",
       "      <td>415004880.0</td>\n",
       "      <td>1.068880e+09</td>\n",
       "    </tr>\n",
       "    <tr>\n",
       "      <th>1</th>\n",
       "      <td>Inception</td>\n",
       "      <td>WB</td>\n",
       "      <td>292600000.0</td>\n",
       "      <td>535700000.0</td>\n",
       "      <td>2010</td>\n",
       "      <td>[28, 878, 12]</td>\n",
       "      <td>en</td>\n",
       "      <td>Inception</td>\n",
       "      <td>27.920</td>\n",
       "      <td>2010-07-16</td>\n",
       "      <td>8.3</td>\n",
       "      <td>22186</td>\n",
       "      <td>38</td>\n",
       "      <td>Jul 16, 2010</td>\n",
       "      <td>160000000</td>\n",
       "      <td>292576195.0</td>\n",
       "      <td>8.355246e+08</td>\n",
       "    </tr>\n",
       "    <tr>\n",
       "      <th>2</th>\n",
       "      <td>Shrek Forever After</td>\n",
       "      <td>P/DW</td>\n",
       "      <td>238700000.0</td>\n",
       "      <td>513900000.0</td>\n",
       "      <td>2010</td>\n",
       "      <td>[35, 12, 14, 16, 10751]</td>\n",
       "      <td>en</td>\n",
       "      <td>Shrek Forever After</td>\n",
       "      <td>15.041</td>\n",
       "      <td>2010-05-16</td>\n",
       "      <td>6.1</td>\n",
       "      <td>3843</td>\n",
       "      <td>27</td>\n",
       "      <td>May 21, 2010</td>\n",
       "      <td>165000000</td>\n",
       "      <td>238736787.0</td>\n",
       "      <td>7.562447e+08</td>\n",
       "    </tr>\n",
       "    <tr>\n",
       "      <th>3</th>\n",
       "      <td>The Twilight Saga: Eclipse</td>\n",
       "      <td>Sum.</td>\n",
       "      <td>300500000.0</td>\n",
       "      <td>398000000.0</td>\n",
       "      <td>2010</td>\n",
       "      <td>[12, 14, 18, 10749]</td>\n",
       "      <td>en</td>\n",
       "      <td>The Twilight Saga: Eclipse</td>\n",
       "      <td>20.340</td>\n",
       "      <td>2010-06-23</td>\n",
       "      <td>6.0</td>\n",
       "      <td>4909</td>\n",
       "      <td>53</td>\n",
       "      <td>Jun 30, 2010</td>\n",
       "      <td>68000000</td>\n",
       "      <td>300531751.0</td>\n",
       "      <td>7.061028e+08</td>\n",
       "    </tr>\n",
       "    <tr>\n",
       "      <th>4</th>\n",
       "      <td>Iron Man 2</td>\n",
       "      <td>Par.</td>\n",
       "      <td>312400000.0</td>\n",
       "      <td>311500000.0</td>\n",
       "      <td>2010</td>\n",
       "      <td>[12, 28, 878]</td>\n",
       "      <td>en</td>\n",
       "      <td>Iron Man 2</td>\n",
       "      <td>28.515</td>\n",
       "      <td>2010-05-07</td>\n",
       "      <td>6.8</td>\n",
       "      <td>12368</td>\n",
       "      <td>15</td>\n",
       "      <td>May 7, 2010</td>\n",
       "      <td>170000000</td>\n",
       "      <td>312433331.0</td>\n",
       "      <td>6.211564e+08</td>\n",
       "    </tr>\n",
       "  </tbody>\n",
       "</table>\n",
       "</div>"
      ],
      "text/plain": [
       "                        title studio  domestic_gross_x  foreign_gross  year  \\\n",
       "0                 Toy Story 3     BV       415000000.0    652000000.0  2010   \n",
       "1                   Inception     WB       292600000.0    535700000.0  2010   \n",
       "2         Shrek Forever After   P/DW       238700000.0    513900000.0  2010   \n",
       "3  The Twilight Saga: Eclipse   Sum.       300500000.0    398000000.0  2010   \n",
       "4                  Iron Man 2   Par.       312400000.0    311500000.0  2010   \n",
       "\n",
       "                 genre_ids original_language              original_title  \\\n",
       "0          [16, 10751, 35]                en                 Toy Story 3   \n",
       "1            [28, 878, 12]                en                   Inception   \n",
       "2  [35, 12, 14, 16, 10751]                en         Shrek Forever After   \n",
       "3      [12, 14, 18, 10749]                en  The Twilight Saga: Eclipse   \n",
       "4            [12, 28, 878]                en                  Iron Man 2   \n",
       "\n",
       "   popularity release_date_x  vote_average  vote_count  id release_date_y  \\\n",
       "0      24.445     2010-06-17           7.7        8340  47   Jun 18, 2010   \n",
       "1      27.920     2010-07-16           8.3       22186  38   Jul 16, 2010   \n",
       "2      15.041     2010-05-16           6.1        3843  27   May 21, 2010   \n",
       "3      20.340     2010-06-23           6.0        4909  53   Jun 30, 2010   \n",
       "4      28.515     2010-05-07           6.8       12368  15    May 7, 2010   \n",
       "\n",
       "   production_budget  domestic_gross_y  worldwide_gross  \n",
       "0          200000000       415004880.0     1.068880e+09  \n",
       "1          160000000       292576195.0     8.355246e+08  \n",
       "2          165000000       238736787.0     7.562447e+08  \n",
       "3           68000000       300531751.0     7.061028e+08  \n",
       "4          170000000       312433331.0     6.211564e+08  "
      ]
     },
     "execution_count": 47,
     "metadata": {},
     "output_type": "execute_result"
    }
   ],
   "source": [
    "# let's merge the now newly created dataset with the tn_df datasets and assign it to a variable name , merged_df2\n",
    "Merged_df2 = pd.merge(Merged_df1,tn_df,on='title',how = \"inner\")\n",
    "\n",
    "#let's have an overview of the newly created merged dataset merged_df2\n",
    "Merged_df2.head()"
   ]
  },
  {
   "cell_type": "code",
   "execution_count": 48,
   "metadata": {},
   "outputs": [
    {
     "data": {
      "text/html": [
       "<div>\n",
       "<style scoped>\n",
       "    .dataframe tbody tr th:only-of-type {\n",
       "        vertical-align: middle;\n",
       "    }\n",
       "\n",
       "    .dataframe tbody tr th {\n",
       "        vertical-align: top;\n",
       "    }\n",
       "\n",
       "    .dataframe thead th {\n",
       "        text-align: right;\n",
       "    }\n",
       "</style>\n",
       "<table border=\"1\" class=\"dataframe\">\n",
       "  <thead>\n",
       "    <tr style=\"text-align: right;\">\n",
       "      <th></th>\n",
       "      <th>title</th>\n",
       "      <th>studio</th>\n",
       "      <th>domestic_gross_x</th>\n",
       "      <th>foreign_gross</th>\n",
       "      <th>year</th>\n",
       "      <th>genre_ids</th>\n",
       "      <th>original_language</th>\n",
       "      <th>original_title</th>\n",
       "      <th>popularity</th>\n",
       "      <th>release_date_x</th>\n",
       "      <th>vote_average</th>\n",
       "      <th>vote_count</th>\n",
       "      <th>id</th>\n",
       "      <th>release_date_y</th>\n",
       "      <th>production_budget</th>\n",
       "      <th>domestic_gross_y</th>\n",
       "      <th>worldwide_gross</th>\n",
       "    </tr>\n",
       "  </thead>\n",
       "  <tbody>\n",
       "    <tr>\n",
       "      <th>1266</th>\n",
       "      <td>Gotti</td>\n",
       "      <td>VE</td>\n",
       "      <td>4300000.0</td>\n",
       "      <td>NaN</td>\n",
       "      <td>2018</td>\n",
       "      <td>[80, 18, 36, 53]</td>\n",
       "      <td>en</td>\n",
       "      <td>Gotti</td>\n",
       "      <td>10.034</td>\n",
       "      <td>2018-06-15</td>\n",
       "      <td>5.2</td>\n",
       "      <td>231</td>\n",
       "      <td>64</td>\n",
       "      <td>Jun 15, 2018</td>\n",
       "      <td>10000000</td>\n",
       "      <td>4286367.0</td>\n",
       "      <td>6089100.0</td>\n",
       "    </tr>\n",
       "    <tr>\n",
       "      <th>1267</th>\n",
       "      <td>Bilal: A New Breed of Hero</td>\n",
       "      <td>VE</td>\n",
       "      <td>491000.0</td>\n",
       "      <td>1700000.0</td>\n",
       "      <td>2018</td>\n",
       "      <td>[28, 12, 16]</td>\n",
       "      <td>en</td>\n",
       "      <td>Bilal: A New Breed of Hero</td>\n",
       "      <td>2.707</td>\n",
       "      <td>2018-02-02</td>\n",
       "      <td>6.8</td>\n",
       "      <td>54</td>\n",
       "      <td>100</td>\n",
       "      <td>Feb 2, 2018</td>\n",
       "      <td>30000000</td>\n",
       "      <td>490973.0</td>\n",
       "      <td>648599.0</td>\n",
       "    </tr>\n",
       "    <tr>\n",
       "      <th>1268</th>\n",
       "      <td>Mandy</td>\n",
       "      <td>RLJ</td>\n",
       "      <td>1200000.0</td>\n",
       "      <td>NaN</td>\n",
       "      <td>2018</td>\n",
       "      <td>[18]</td>\n",
       "      <td>en</td>\n",
       "      <td>Mandy</td>\n",
       "      <td>0.600</td>\n",
       "      <td>2016-01-24</td>\n",
       "      <td>3.5</td>\n",
       "      <td>2</td>\n",
       "      <td>71</td>\n",
       "      <td>Sep 14, 2018</td>\n",
       "      <td>6000000</td>\n",
       "      <td>1214525.0</td>\n",
       "      <td>1427656.0</td>\n",
       "    </tr>\n",
       "    <tr>\n",
       "      <th>1269</th>\n",
       "      <td>Mandy</td>\n",
       "      <td>RLJ</td>\n",
       "      <td>1200000.0</td>\n",
       "      <td>NaN</td>\n",
       "      <td>2018</td>\n",
       "      <td>[28, 53, 27, 14, 9648]</td>\n",
       "      <td>en</td>\n",
       "      <td>Mandy</td>\n",
       "      <td>16.240</td>\n",
       "      <td>2018-09-13</td>\n",
       "      <td>6.2</td>\n",
       "      <td>618</td>\n",
       "      <td>71</td>\n",
       "      <td>Sep 14, 2018</td>\n",
       "      <td>6000000</td>\n",
       "      <td>1214525.0</td>\n",
       "      <td>1427656.0</td>\n",
       "    </tr>\n",
       "    <tr>\n",
       "      <th>1270</th>\n",
       "      <td>Lean on Pete</td>\n",
       "      <td>A24</td>\n",
       "      <td>1200000.0</td>\n",
       "      <td>NaN</td>\n",
       "      <td>2018</td>\n",
       "      <td>[18, 12]</td>\n",
       "      <td>en</td>\n",
       "      <td>Lean on Pete</td>\n",
       "      <td>9.307</td>\n",
       "      <td>2018-04-06</td>\n",
       "      <td>6.9</td>\n",
       "      <td>133</td>\n",
       "      <td>13</td>\n",
       "      <td>Apr 6, 2018</td>\n",
       "      <td>8000000</td>\n",
       "      <td>1163056.0</td>\n",
       "      <td>2455027.0</td>\n",
       "    </tr>\n",
       "  </tbody>\n",
       "</table>\n",
       "</div>"
      ],
      "text/plain": [
       "                           title studio  domestic_gross_x  foreign_gross  \\\n",
       "1266                       Gotti     VE         4300000.0            NaN   \n",
       "1267  Bilal: A New Breed of Hero     VE          491000.0      1700000.0   \n",
       "1268                       Mandy    RLJ         1200000.0            NaN   \n",
       "1269                       Mandy    RLJ         1200000.0            NaN   \n",
       "1270                Lean on Pete    A24         1200000.0            NaN   \n",
       "\n",
       "      year               genre_ids original_language  \\\n",
       "1266  2018        [80, 18, 36, 53]                en   \n",
       "1267  2018            [28, 12, 16]                en   \n",
       "1268  2018                    [18]                en   \n",
       "1269  2018  [28, 53, 27, 14, 9648]                en   \n",
       "1270  2018                [18, 12]                en   \n",
       "\n",
       "                  original_title  popularity release_date_x  vote_average  \\\n",
       "1266                       Gotti      10.034     2018-06-15           5.2   \n",
       "1267  Bilal: A New Breed of Hero       2.707     2018-02-02           6.8   \n",
       "1268                       Mandy       0.600     2016-01-24           3.5   \n",
       "1269                       Mandy      16.240     2018-09-13           6.2   \n",
       "1270                Lean on Pete       9.307     2018-04-06           6.9   \n",
       "\n",
       "      vote_count   id release_date_y  production_budget  domestic_gross_y  \\\n",
       "1266         231   64   Jun 15, 2018           10000000         4286367.0   \n",
       "1267          54  100    Feb 2, 2018           30000000          490973.0   \n",
       "1268           2   71   Sep 14, 2018            6000000         1214525.0   \n",
       "1269         618   71   Sep 14, 2018            6000000         1214525.0   \n",
       "1270         133   13    Apr 6, 2018            8000000         1163056.0   \n",
       "\n",
       "      worldwide_gross  \n",
       "1266        6089100.0  \n",
       "1267         648599.0  \n",
       "1268        1427656.0  \n",
       "1269        1427656.0  \n",
       "1270        2455027.0  "
      ]
     },
     "execution_count": 48,
     "metadata": {},
     "output_type": "execute_result"
    }
   ],
   "source": [
    "#let's have an overview of the bottom rows of newly merged dataset merged_df2\n",
    "Merged_df2.tail()"
   ]
  },
  {
   "cell_type": "code",
   "execution_count": 49,
   "metadata": {},
   "outputs": [
    {
     "name": "stdout",
     "output_type": "stream",
     "text": [
      "<class 'pandas.core.frame.DataFrame'>\n",
      "Int64Index: 1271 entries, 0 to 1270\n",
      "Data columns (total 17 columns):\n",
      " #   Column             Non-Null Count  Dtype  \n",
      "---  ------             --------------  -----  \n",
      " 0   title              1271 non-null   object \n",
      " 1   studio             1270 non-null   object \n",
      " 2   domestic_gross_x   1271 non-null   float64\n",
      " 3   foreign_gross      1097 non-null   float64\n",
      " 4   year               1271 non-null   object \n",
      " 5   genre_ids          1271 non-null   object \n",
      " 6   original_language  1271 non-null   object \n",
      " 7   original_title     1271 non-null   object \n",
      " 8   popularity         1271 non-null   float64\n",
      " 9   release_date_x     1271 non-null   object \n",
      " 10  vote_average       1271 non-null   float64\n",
      " 11  vote_count         1271 non-null   int64  \n",
      " 12  id                 1271 non-null   int64  \n",
      " 13  release_date_y     1271 non-null   object \n",
      " 14  production_budget  1271 non-null   int32  \n",
      " 15  domestic_gross_y   1271 non-null   float64\n",
      " 16  worldwide_gross    1271 non-null   float64\n",
      "dtypes: float64(6), int32(1), int64(2), object(8)\n",
      "memory usage: 173.8+ KB\n"
     ]
    }
   ],
   "source": [
    "#Observe also the datatypes of the columns to see if they're on their right formats\n",
    "Merged_df2.info()"
   ]
  },
  {
   "cell_type": "code",
   "execution_count": 50,
   "metadata": {},
   "outputs": [
    {
     "data": {
      "text/plain": [
       "0"
      ]
     },
     "execution_count": 50,
     "metadata": {},
     "output_type": "execute_result"
    }
   ],
   "source": [
    "Merged_df2.duplicated().sum()"
   ]
  },
  {
   "cell_type": "markdown",
   "metadata": {},
   "source": [
    "# Merged dataset cleaning\n",
    "\n",
    "After merging the datasets, we have noticed that there are several duplicate columns in the resulting dataframe. To clean the merged dataset, we will drop these duplicate columns and only retain the columns from the original datasets that are relevant for our analysis."
   ]
  },
  {
   "cell_type": "code",
   "execution_count": 51,
   "metadata": {},
   "outputs": [],
   "source": [
    "to_drop = [\"release_date_y\", \"domestic_gross_y\"]\n",
    "Merged_df2 = Merged_df2.drop(columns=to_drop)"
   ]
  },
  {
   "cell_type": "code",
   "execution_count": 52,
   "metadata": {},
   "outputs": [],
   "source": [
    "Merged_df2[\"profit\"] = Merged_df2[\"worldwide_gross\"] - Merged_df2[\"production_budget\"]\n",
    "Merged_df2[\"profit_margin\"] = (Merged_df2[\"profit\"] / Merged_df2[\"worldwide_gross\"]) * 100"
   ]
  },
  {
   "cell_type": "code",
   "execution_count": 53,
   "metadata": {},
   "outputs": [
    {
     "data": {
      "text/html": [
       "<div>\n",
       "<style scoped>\n",
       "    .dataframe tbody tr th:only-of-type {\n",
       "        vertical-align: middle;\n",
       "    }\n",
       "\n",
       "    .dataframe tbody tr th {\n",
       "        vertical-align: top;\n",
       "    }\n",
       "\n",
       "    .dataframe thead th {\n",
       "        text-align: right;\n",
       "    }\n",
       "</style>\n",
       "<table border=\"1\" class=\"dataframe\">\n",
       "  <thead>\n",
       "    <tr style=\"text-align: right;\">\n",
       "      <th></th>\n",
       "      <th>title</th>\n",
       "      <th>studio</th>\n",
       "      <th>domestic_gross_x</th>\n",
       "      <th>foreign_gross</th>\n",
       "      <th>year</th>\n",
       "      <th>genre_ids</th>\n",
       "      <th>original_language</th>\n",
       "      <th>original_title</th>\n",
       "      <th>popularity</th>\n",
       "      <th>release_date_x</th>\n",
       "      <th>vote_average</th>\n",
       "      <th>vote_count</th>\n",
       "      <th>id</th>\n",
       "      <th>production_budget</th>\n",
       "      <th>worldwide_gross</th>\n",
       "      <th>profit</th>\n",
       "      <th>profit_margin</th>\n",
       "    </tr>\n",
       "  </thead>\n",
       "  <tbody>\n",
       "    <tr>\n",
       "      <th>0</th>\n",
       "      <td>Toy Story 3</td>\n",
       "      <td>BV</td>\n",
       "      <td>415000000.0</td>\n",
       "      <td>652000000.0</td>\n",
       "      <td>2010</td>\n",
       "      <td>[16, 10751, 35]</td>\n",
       "      <td>en</td>\n",
       "      <td>Toy Story 3</td>\n",
       "      <td>24.445</td>\n",
       "      <td>2010-06-17</td>\n",
       "      <td>7.7</td>\n",
       "      <td>8340</td>\n",
       "      <td>47</td>\n",
       "      <td>200000000</td>\n",
       "      <td>1.068880e+09</td>\n",
       "      <td>868879522.0</td>\n",
       "      <td>81.288817</td>\n",
       "    </tr>\n",
       "    <tr>\n",
       "      <th>1</th>\n",
       "      <td>Inception</td>\n",
       "      <td>WB</td>\n",
       "      <td>292600000.0</td>\n",
       "      <td>535700000.0</td>\n",
       "      <td>2010</td>\n",
       "      <td>[28, 878, 12]</td>\n",
       "      <td>en</td>\n",
       "      <td>Inception</td>\n",
       "      <td>27.920</td>\n",
       "      <td>2010-07-16</td>\n",
       "      <td>8.3</td>\n",
       "      <td>22186</td>\n",
       "      <td>38</td>\n",
       "      <td>160000000</td>\n",
       "      <td>8.355246e+08</td>\n",
       "      <td>675524642.0</td>\n",
       "      <td>80.850355</td>\n",
       "    </tr>\n",
       "    <tr>\n",
       "      <th>2</th>\n",
       "      <td>Shrek Forever After</td>\n",
       "      <td>P/DW</td>\n",
       "      <td>238700000.0</td>\n",
       "      <td>513900000.0</td>\n",
       "      <td>2010</td>\n",
       "      <td>[35, 12, 14, 16, 10751]</td>\n",
       "      <td>en</td>\n",
       "      <td>Shrek Forever After</td>\n",
       "      <td>15.041</td>\n",
       "      <td>2010-05-16</td>\n",
       "      <td>6.1</td>\n",
       "      <td>3843</td>\n",
       "      <td>27</td>\n",
       "      <td>165000000</td>\n",
       "      <td>7.562447e+08</td>\n",
       "      <td>591244673.0</td>\n",
       "      <td>78.181664</td>\n",
       "    </tr>\n",
       "    <tr>\n",
       "      <th>3</th>\n",
       "      <td>The Twilight Saga: Eclipse</td>\n",
       "      <td>Sum.</td>\n",
       "      <td>300500000.0</td>\n",
       "      <td>398000000.0</td>\n",
       "      <td>2010</td>\n",
       "      <td>[12, 14, 18, 10749]</td>\n",
       "      <td>en</td>\n",
       "      <td>The Twilight Saga: Eclipse</td>\n",
       "      <td>20.340</td>\n",
       "      <td>2010-06-23</td>\n",
       "      <td>6.0</td>\n",
       "      <td>4909</td>\n",
       "      <td>53</td>\n",
       "      <td>68000000</td>\n",
       "      <td>7.061028e+08</td>\n",
       "      <td>638102828.0</td>\n",
       "      <td>90.369675</td>\n",
       "    </tr>\n",
       "    <tr>\n",
       "      <th>4</th>\n",
       "      <td>Iron Man 2</td>\n",
       "      <td>Par.</td>\n",
       "      <td>312400000.0</td>\n",
       "      <td>311500000.0</td>\n",
       "      <td>2010</td>\n",
       "      <td>[12, 28, 878]</td>\n",
       "      <td>en</td>\n",
       "      <td>Iron Man 2</td>\n",
       "      <td>28.515</td>\n",
       "      <td>2010-05-07</td>\n",
       "      <td>6.8</td>\n",
       "      <td>12368</td>\n",
       "      <td>15</td>\n",
       "      <td>170000000</td>\n",
       "      <td>6.211564e+08</td>\n",
       "      <td>451156389.0</td>\n",
       "      <td>72.631691</td>\n",
       "    </tr>\n",
       "  </tbody>\n",
       "</table>\n",
       "</div>"
      ],
      "text/plain": [
       "                        title studio  domestic_gross_x  foreign_gross  year  \\\n",
       "0                 Toy Story 3     BV       415000000.0    652000000.0  2010   \n",
       "1                   Inception     WB       292600000.0    535700000.0  2010   \n",
       "2         Shrek Forever After   P/DW       238700000.0    513900000.0  2010   \n",
       "3  The Twilight Saga: Eclipse   Sum.       300500000.0    398000000.0  2010   \n",
       "4                  Iron Man 2   Par.       312400000.0    311500000.0  2010   \n",
       "\n",
       "                 genre_ids original_language              original_title  \\\n",
       "0          [16, 10751, 35]                en                 Toy Story 3   \n",
       "1            [28, 878, 12]                en                   Inception   \n",
       "2  [35, 12, 14, 16, 10751]                en         Shrek Forever After   \n",
       "3      [12, 14, 18, 10749]                en  The Twilight Saga: Eclipse   \n",
       "4            [12, 28, 878]                en                  Iron Man 2   \n",
       "\n",
       "   popularity release_date_x  vote_average  vote_count  id  production_budget  \\\n",
       "0      24.445     2010-06-17           7.7        8340  47          200000000   \n",
       "1      27.920     2010-07-16           8.3       22186  38          160000000   \n",
       "2      15.041     2010-05-16           6.1        3843  27          165000000   \n",
       "3      20.340     2010-06-23           6.0        4909  53           68000000   \n",
       "4      28.515     2010-05-07           6.8       12368  15          170000000   \n",
       "\n",
       "   worldwide_gross       profit  profit_margin  \n",
       "0     1.068880e+09  868879522.0      81.288817  \n",
       "1     8.355246e+08  675524642.0      80.850355  \n",
       "2     7.562447e+08  591244673.0      78.181664  \n",
       "3     7.061028e+08  638102828.0      90.369675  \n",
       "4     6.211564e+08  451156389.0      72.631691  "
      ]
     },
     "execution_count": 53,
     "metadata": {},
     "output_type": "execute_result"
    }
   ],
   "source": [
    "Merged_df2.head()"
   ]
  },
  {
   "cell_type": "code",
   "execution_count": 54,
   "metadata": {},
   "outputs": [
    {
     "name": "stdout",
     "output_type": "stream",
     "text": [
      "<class 'pandas.core.frame.DataFrame'>\n",
      "Int64Index: 1271 entries, 0 to 1270\n",
      "Data columns (total 17 columns):\n",
      " #   Column             Non-Null Count  Dtype  \n",
      "---  ------             --------------  -----  \n",
      " 0   title              1271 non-null   object \n",
      " 1   studio             1270 non-null   object \n",
      " 2   domestic_gross_x   1271 non-null   float64\n",
      " 3   foreign_gross      1097 non-null   float64\n",
      " 4   year               1271 non-null   object \n",
      " 5   genre_ids          1271 non-null   object \n",
      " 6   original_language  1271 non-null   object \n",
      " 7   original_title     1271 non-null   object \n",
      " 8   popularity         1271 non-null   float64\n",
      " 9   release_date_x     1271 non-null   object \n",
      " 10  vote_average       1271 non-null   float64\n",
      " 11  vote_count         1271 non-null   int64  \n",
      " 12  id                 1271 non-null   int64  \n",
      " 13  production_budget  1271 non-null   int32  \n",
      " 14  worldwide_gross    1271 non-null   float64\n",
      " 15  profit             1271 non-null   float64\n",
      " 16  profit_margin      1271 non-null   float64\n",
      "dtypes: float64(7), int32(1), int64(2), object(7)\n",
      "memory usage: 173.8+ KB\n"
     ]
    }
   ],
   "source": [
    "Merged_df2.info()"
   ]
  },
  {
   "cell_type": "code",
   "execution_count": 55,
   "metadata": {},
   "outputs": [
    {
     "data": {
      "text/plain": [
       "title                  0\n",
       "studio                 1\n",
       "domestic_gross_x       0\n",
       "foreign_gross        174\n",
       "year                   0\n",
       "genre_ids              0\n",
       "original_language      0\n",
       "original_title         0\n",
       "popularity             0\n",
       "release_date_x         0\n",
       "vote_average           0\n",
       "vote_count             0\n",
       "id                     0\n",
       "production_budget      0\n",
       "worldwide_gross        0\n",
       "profit                 0\n",
       "profit_margin          0\n",
       "dtype: int64"
      ]
     },
     "execution_count": 55,
     "metadata": {},
     "output_type": "execute_result"
    }
   ],
   "source": [
    "Merged_df2.isnull().sum()"
   ]
  },
  {
   "cell_type": "code",
   "execution_count": 56,
   "metadata": {},
   "outputs": [],
   "source": [
    "#let's fill the missing value on foreign gross with zero, this is so because \n",
    "#we might have a zero gross if the release was not done internationally\n",
    "Merged_df2[\"foreign_gross\"] = Merged_df2[\"foreign_gross\"].fillna(0)"
   ]
  },
  {
   "cell_type": "code",
   "execution_count": 57,
   "metadata": {},
   "outputs": [],
   "source": [
    "Merged_df2.dropna(inplace= True)"
   ]
  },
  {
   "cell_type": "code",
   "execution_count": 58,
   "metadata": {},
   "outputs": [
    {
     "data": {
      "text/plain": [
       "title                0\n",
       "studio               0\n",
       "domestic_gross_x     0\n",
       "foreign_gross        0\n",
       "year                 0\n",
       "genre_ids            0\n",
       "original_language    0\n",
       "original_title       0\n",
       "popularity           0\n",
       "release_date_x       0\n",
       "vote_average         0\n",
       "vote_count           0\n",
       "id                   0\n",
       "production_budget    0\n",
       "worldwide_gross      0\n",
       "profit               0\n",
       "profit_margin        0\n",
       "dtype: int64"
      ]
     },
     "execution_count": 58,
     "metadata": {},
     "output_type": "execute_result"
    }
   ],
   "source": [
    "Merged_df2.isnull().sum()"
   ]
  },
  {
   "cell_type": "code",
   "execution_count": 59,
   "metadata": {},
   "outputs": [
    {
     "data": {
      "text/plain": [
       "Index(['title', 'studio', 'domestic_gross_x', 'foreign_gross', 'year',\n",
       "       'genre_ids', 'original_language', 'original_title', 'popularity',\n",
       "       'release_date_x', 'vote_average', 'vote_count', 'id',\n",
       "       'production_budget', 'worldwide_gross', 'profit', 'profit_margin'],\n",
       "      dtype='object')"
      ]
     },
     "execution_count": 59,
     "metadata": {},
     "output_type": "execute_result"
    }
   ],
   "source": [
    "Merged_df2.columns"
   ]
  },
  {
   "cell_type": "markdown",
   "metadata": {},
   "source": [
    "# Visualizing the dataset:"
   ]
  },
  {
   "cell_type": "markdown",
   "metadata": {},
   "source": [
    "The merged dataset provides us with a wealth of information about the movie industry and can potentially help us answer our research questions. We can leverage various columns such as 'title', 'studio', 'domestic_gross_x', 'foreign_gross', 'year', 'original_language', and 'release_date_x' to gain insights into the movie's distribution and language.\n",
    "\n",
    "Moreover, we can analyze the popularity and reception of different genres among audiences using the columns 'genre_ids' and 'vote_average'. Lastly, we can use the financial information provided by columns such as 'production_budget', 'worldwide_gross', 'profit', and 'profit_margin' to understand the financial performance of movies and potentially identify the most profitable ones.\n",
    "\n",
    "To visually represent our findings, we will use different types of plots such as scatter plots, line charts, bar charts, histograms, and box plots, depending on our research questions and areas of interest."
   ]
  },
  {
   "cell_type": "markdown",
   "metadata": {},
   "source": [
    "To explore the popularity of movies based on the original language used in production.\n",
    "- We will start by creating a bar chart to visualize the distribution of movies based on their original language.\n",
    "- secondly,create a scatter plot to show the relationship between the popularity of movies and the language used. \n",
    "This will help us identify which languages are most commonly used in popular movies and potentially draw insights on the preferences of audiences in different regions of the world."
   ]
  },
  {
   "cell_type": "code",
   "execution_count": 60,
   "metadata": {},
   "outputs": [
    {
     "data": {
      "image/png": "[encoded data removed]",
      "text/plain": [
       "<Figure size 1200x600 with 1 Axes>"
      ]
     },
     "metadata": {},
     "output_type": "display_data"
    }
   ],
   "source": [
    "# create a new dataframe with only the columns of interest\n",
    "language_df = Merged_df2[['title', 'original_language', 'popularity']]\n",
    "\n",
    "# group the dataframe by original language and calculate the mean popularity of movies in each language\n",
    "language_popularity = language_df.groupby('original_language')['popularity'].mean().reset_index()\n",
    "\n",
    "# sort the dataframe by popularity in descending order\n",
    "language_popularity = language_popularity.sort_values('popularity', ascending=False)\n",
    "\n",
    "# create a bar chart to visualize the average popularity of movies in each original language\n",
    "plt.figure(figsize=(12,6))\n",
    "sns.barplot(x='original_language', y='popularity', data=language_popularity, palette='magma')\n",
    "plt.title('Average Popularity of Movies by Original Language')\n",
    "plt.xlabel('Original Language')\n",
    "plt.ylabel('Popularity')\n",
    "plt.show()"
   ]
  },
  {
   "cell_type": "markdown",
   "metadata": {},
   "source": [
    "From the bar chart,It's clearly evident that English language is by far the most common language for movie production in the dataset"
   ]
  },
  {
   "cell_type": "markdown",
   "metadata": {},
   "source": [
    "\n",
    "\n",
    "\n",
    "Next, let's explore the relationship between a movie's budget and its box office performance to determine the ROI.\n",
    "\n",
    "To do this we will we create a scatter plot with 'production_budget' on the x-axis and 'worldwide_gross' on the y-axis. This will help us visualize the correlation between a movie's budget and its box office revenue. \n",
    "\n",
    "We will then calculate the ROI for each movie by dividing its worldwide gross by its production budget, and plot a histogram to show the distribution of ROI values across all movies. This will give us insights into the profitability of movies and help us identify the most successful ones."
   ]
  },
  {
   "cell_type": "code",
   "execution_count": 61,
   "metadata": {},
   "outputs": [
    {
     "data": {
      "image/png": "[encoded data removed]",
      "text/plain": [
       "<Figure size 640x480 with 1 Axes>"
      ]
     },
     "metadata": {},
     "output_type": "display_data"
    }
   ],
   "source": [
    "# select relevant columns\n",
    "roi_df = Merged_df2[['title', 'production_budget', 'worldwide_gross']]\n",
    "\n",
    "# calculate ROI\n",
    "roi_df['ROI'] = (roi_df['worldwide_gross'] - roi_df['production_budget']) / roi_df['production_budget']\n",
    "\n",
    "# plot scatter plot\n",
    "plt.scatter(roi_df['production_budget'], roi_df['worldwide_gross'], s=10)\n",
    "plt.xlabel('Production Budget (in millions)')\n",
    "plt.ylabel('Worldwide Gross (in millions)')\n",
    "plt.title('Movie ROI')\n",
    "plt.show()\n"
   ]
  },
  {
   "cell_type": "markdown",
   "metadata": {},
   "source": [
    "From the scatter plot, we can observe a positive correlation between a movie's production budget and its worldwide gross revenue, indicating that movies with higher budgets tend to have higher box office performance. However, there are also many data points with low budgets and high revenue, suggesting that a high production budget does not guarantee high box office success. It is important to note that correlation does not necessarily imply causation, and other factors such as marketing and the quality of the movie may also contribute to its success."
   ]
  },
  {
   "cell_type": "code",
   "execution_count": 62,
   "metadata": {},
   "outputs": [
    {
     "data": {
      "image/png": "[encoded data removed]",
      "text/plain": [
       "<Figure size 640x480 with 1 Axes>"
      ]
     },
     "metadata": {},
     "output_type": "display_data"
    }
   ],
   "source": [
    "# Calculate ROI for each movie\n",
    "Merged_df2['ROI'] = Merged_df2['worldwide_gross'] / Merged_df2['production_budget']\n",
    "\n",
    "# Plot histogram of ROI values\n",
    "plt.hist(Merged_df2['ROI'], bins=20, range=(0, 10))\n",
    "plt.title('Distribution of Return on Investment (ROI)')\n",
    "plt.xlabel('ROI')\n",
    "plt.ylabel('Frequency')\n",
    "plt.show()"
   ]
  },
  {
   "cell_type": "markdown",
   "metadata": {},
   "source": [
    "From the histogram, we can see that the majority of movies have an ROI between 0 and 10, indicating that most movies do not make a significant profit. However, there are a few outliers with much higher ROI values, indicating that there are some highly profitable movies in the dataset. This suggests that the movie industry is highly risky, with only a few movies generating significant profits while the majority do not perform well financially. It also highlights the importance of carefully managing production budgets and finding ways to maximize box office revenue to increase the chances of a movie being financially successful."
   ]
  },
  {
   "cell_type": "code",
   "execution_count": 63,
   "metadata": {},
   "outputs": [
    {
     "data": {
      "image/png": "[encoded data removed]",
      "text/plain": [
       "<Figure size 1200x800 with 1 Axes>"
      ]
     },
     "metadata": {},
     "output_type": "display_data"
    }
   ],
   "source": [
    "# select relevant columns\n",
    "roi_lang_df = Merged_df2[['original_language', 'production_budget', 'worldwide_gross']]\n",
    "\n",
    "# calculate ROI\n",
    "roi_lang_df['ROI'] = (roi_lang_df['worldwide_gross'] - roi_lang_df['production_budget']) / roi_lang_df['production_budget']\n",
    "\n",
    "# group by original_language and calculate average ROI\n",
    "roi_lang_avg_df = roi_lang_df.groupby('original_language')['ROI'].mean().reset_index()\n",
    "\n",
    "# plot bar chart of average ROI by original_language\n",
    "plt.figure(figsize=(12,8))\n",
    "plt.bar(roi_lang_avg_df['original_language'], roi_lang_avg_df['ROI'])\n",
    "plt.xlabel('Original Language')\n",
    "plt.ylabel('Average ROI')\n",
    "plt.title('Average ROI by Original Language')\n",
    "plt.show()"
   ]
  },
  {
   "cell_type": "markdown",
   "metadata": {},
   "source": [
    "Lastly,\n",
    "Let's  examine the relationship between a movie's vote average and its box office earnings, \n",
    "- we will start by creating a scatter plot with 'vote_average' on the x-axis and 'worldwide_gross' on the y-axis. \n",
    "This will help us visualize the relationship between a movie's vote average and its box office revenue. We can also calculate the correlation coefficient between these two variables to determine if there is a strong or weak relationship between them.\n",
    "\n",
    "- Next,Is to plot a box plot to show the distribution of vote average values across all movies. This will help us to identify the range of vote averages for successful movies and potentially draw insights on the preferences of audiences when it comes to movie ratings.\n",
    "\n",
    "- Finally, we will create a bar chart to compare the average vote averages and worldwide gross for the top 10 highest grossing movies. This will give us an idea of whether movies with higher vote averages tend to perform better at the box office."
   ]
  },
  {
   "cell_type": "code",
   "execution_count": 64,
   "metadata": {},
   "outputs": [
    {
     "data": {
      "text/plain": [
       "<AxesSubplot:xlabel='vote_average', ylabel='worldwide_gross'>"
      ]
     },
     "execution_count": 64,
     "metadata": {},
     "output_type": "execute_result"
    },
    {
     "data": {
      "image/png": "[encoded data removed]",
      "text/plain": [
       "<Figure size 640x480 with 1 Axes>"
      ]
     },
     "metadata": {},
     "output_type": "display_data"
    }
   ],
   "source": [
    "sns.scatterplot(x=\"vote_average\", y=\"worldwide_gross\", data=Merged_df2)"
   ]
  },
  {
   "cell_type": "code",
   "execution_count": 65,
   "metadata": {},
   "outputs": [
    {
     "name": "stdout",
     "output_type": "stream",
     "text": [
      "Correlation coefficient between vote average and worldwide gross:  0.19549326164034628\n"
     ]
    }
   ],
   "source": [
    "correlation = Merged_df2['vote_average'].corr(Merged_df2['worldwide_gross'])\n",
    "print(\"Correlation coefficient between vote average and worldwide gross: \", correlation)"
   ]
  },
  {
   "cell_type": "markdown",
   "metadata": {},
   "source": [
    "From the visualization and correlation analysis, we can see that there is a weak positive correlation between a movie's vote average and its worldwide gross. This suggests that while movies with higher vote averages may have slightly higher box office earnings, there are many other factors that contribute to a movie's success. It is important to consider other variables such as marketing, genre, and release date when predicting a movie's box office performance."
   ]
  },
  {
   "cell_type": "code",
   "execution_count": 66,
   "metadata": {},
   "outputs": [
    {
     "data": {
      "text/plain": [
       "<AxesSubplot:xlabel='vote_category', ylabel='worldwide_gross'>"
      ]
     },
     "execution_count": 66,
     "metadata": {},
     "output_type": "execute_result"
    },
    {
     "data": {
      "image/png": "[encoded data removed]",
      "text/plain": [
       "<Figure size 640x480 with 1 Axes>"
      ]
     },
     "metadata": {},
     "output_type": "display_data"
    }
   ],
   "source": [
    "# Create a new column for vote_average categories\n",
    "Merged_df2['vote_category'] = pd.cut(Merged_df2['vote_average'], bins=[0, 4, 6, 8, 10], labels=['<4', '4-6', '6-8', '>8'])\n",
    "\n",
    "# Create a boxplot with vote_category on the x-axis and worldwide_gross on the y-axis\n",
    "sns.boxplot(x='vote_category', y='worldwide_gross', data=Merged_df2)\n"
   ]
  },
  {
   "cell_type": "markdown",
   "metadata": {},
   "source": [
    "if there are a large number of movies in the \"6-8\" rating category, it suggests that movies with moderate to high ratings are more popular among viewers. Conversely, if there are a large number of movies in the \"<4\" rating category, it suggests that movies with low ratings are less popular among viewers.\n"
   ]
  },
  {
   "cell_type": "code",
   "execution_count": 67,
   "metadata": {},
   "outputs": [
    {
     "data": {
      "image/png": "[encoded data removed]",
      "text/plain": [
       "<Figure size 1200x800 with 2 Axes>"
      ]
     },
     "metadata": {},
     "output_type": "display_data"
    }
   ],
   "source": [
    "# Get the top 10 highest grossing movies\n",
    "top_10 = Merged_df2.nlargest(10, 'worldwide_gross')\n",
    "\n",
    "# Create a bar chart comparing the average vote average and worldwide gross for the top 10 movies\n",
    "fig, ax1 = plt.subplots(figsize=(12,8))\n",
    "\n",
    "ax1.bar(top_10['title'], top_10['worldwide_gross'], label='Worldwide Gross')\n",
    "ax1.set_xlabel('Movie Title')\n",
    "ax1.set_ylabel('Worldwide Gross (in millions)')\n",
    "ax1.set_xticklabels(top_10['title'], rotation=90)\n",
    "\n",
    "# Add a secondary y-axis for the average vote\n",
    "ax2 = ax1.twinx()\n",
    "ax2.plot(top_10['title'], top_10['vote_average'], color='orange', marker='o', label='Average Vote')\n",
    "ax2.set_ylabel('Average Vote')\n",
    "ax2.tick_params(axis='y', labelcolor='orange')\n",
    "\n",
    "# Add legend and title\n",
    "fig.legend(loc='upper right', bbox_to_anchor=(0.95, 0.9))\n",
    "fig.suptitle('Comparison of Average Vote and Worldwide Gross for Top 10 Highest Grossing Movies')\n",
    "\n",
    "plt.show()"
   ]
  },
  {
   "cell_type": "markdown",
   "metadata": {},
   "source": [
    "From the histogram above,comparing the average vote and worldwide gross for the top 10 highest grossing movies, we can derive a few important insights.\n",
    "- The highest grossing movies are not necessarily the ones with the highest average vote. For example, \"Jurassic World\" has the highest worldwide gross but its average vote is lower compared to some of the other movies.\n",
    "\n",
    "- The top 10 highest grossing movies have a relatively high average vote. This suggests that popular movies tend to be well-liked by viewers as well.\n",
    "\n",
    "- Other movies, such as \"Frozen\", have relatively lower worldwide gross compared to some of the other movies in the top 10 but have a high average vote, indicating that they were popular among viewers despite not being as commercially successful."
   ]
  },
  {
   "cell_type": "markdown",
   "metadata": {},
   "source": [
    "# Other Visualization"
   ]
  },
  {
   "cell_type": "code",
   "execution_count": 68,
   "metadata": {},
   "outputs": [
    {
     "data": {
      "image/png": "[encoded data removed]",
      "text/plain": [
       "<Figure size 1000x800 with 1 Axes>"
      ]
     },
     "metadata": {},
     "output_type": "display_data"
    }
   ],
   "source": [
    "plt.figure(figsize=(10,8))\n",
    "sns.histplot(data=Merged_df2, x='vote_average', bins=20, kde=True, color='purple')\n",
    "plt.xlabel('Movie Rating (Vote Average)', fontsize=14)\n",
    "plt.ylabel('Count', fontsize=14)\n",
    "plt.title('Distribution of Movie Ratings', fontsize=16)\n",
    "plt.show()\n"
   ]
  },
  {
   "cell_type": "code",
   "execution_count": 69,
   "metadata": {
    "scrolled": false
   },
   "outputs": [
    {
     "data": {
      "image/png": "[encoded data removed]",
      "text/plain": [
       "<Figure size 1000x500 with 1 Axes>"
      ]
     },
     "metadata": {},
     "output_type": "display_data"
    }
   ],
   "source": [
    "plt.figure(figsize=(10,5))\n",
    "studio_gross = Merged_df2.groupby('studio')['worldwide_gross'].sum().sort_values(ascending=False)[:10]\n",
    "sns.barplot(x=studio_gross.values, y=studio_gross.index, palette='Blues_r')\n",
    "plt.xlabel('Total Worldwide Gross (in billions)', fontsize=14)\n",
    "plt.ylabel('Studio', fontsize=14)\n",
    "plt.title('Total Worldwide Gross by Studio (Top 10)', fontsize=16)\n",
    "plt.show()\n"
   ]
  },
  {
   "cell_type": "code",
   "execution_count": 70,
   "metadata": {},
   "outputs": [
    {
     "data": {
      "image/png": "[encoded data removed]",
      "text/plain": [
       "<Figure size 640x480 with 1 Axes>"
      ]
     },
     "metadata": {},
     "output_type": "display_data"
    }
   ],
   "source": [
    "sns.histplot(data=Merged_df2, x='year', binwidth=1)\n",
    "plt.title('Movie Releases by Year')\n",
    "plt.xlabel('Release Year')\n",
    "plt.ylabel('Count')\n",
    "plt.show()\n"
   ]
  },
  {
   "cell_type": "markdown",
   "metadata": {},
   "source": [
    "# Statistical analysis:"
   ]
  },
  {
   "cell_type": "markdown",
   "metadata": {},
   "source": [
    "let's start by calculating some summary statistics for each of the three features of interest:\n",
    "\n",
    "Original Language:\n",
    "\n",
    "- Frequency of each original language in the dataset\n",
    "- Mean and standard deviation of worldwide gross for each original language\n",
    "- Mean and standard deviation of vote average for each original language\n",
    "\n",
    "Return on Investment (ROI):\n",
    "\n",
    "- Correlation coefficient between budget and worldwide gross\n",
    "- Mean and standard deviation of budget and worldwide gross\n",
    "- Mean and standard deviation of ROI (defined as (worldwide gross - budget)/budget)\n",
    "\n",
    "Vote Average:\n",
    "\n",
    "- Correlation coefficient between vote average and worldwide gross\n",
    "- Mean and standard deviation of vote average and worldwide gross\n",
    "- Mean and standard deviation of worldwide gross for each vote category (as defined in the previous analysis)"
   ]
  },
  {
   "cell_type": "code",
   "execution_count": 71,
   "metadata": {},
   "outputs": [
    {
     "data": {
      "text/plain": [
       "en    1221\n",
       "fr      10\n",
       "hi       7\n",
       "ru       4\n",
       "es       4\n",
       "ko       3\n",
       "th       2\n",
       "ar       2\n",
       "zh       2\n",
       "it       2\n",
       "fa       1\n",
       "da       1\n",
       "pl       1\n",
       "no       1\n",
       "hu       1\n",
       "pt       1\n",
       "he       1\n",
       "tr       1\n",
       "xx       1\n",
       "te       1\n",
       "de       1\n",
       "sv       1\n",
       "el       1\n",
       "Name: original_language, dtype: int64"
      ]
     },
     "execution_count": 71,
     "metadata": {},
     "output_type": "execute_result"
    }
   ],
   "source": [
    "#Frequency of each original language in the dataset:\n",
    "Merged_df2['original_language'].value_counts()"
   ]
  },
  {
   "cell_type": "code",
   "execution_count": 72,
   "metadata": {},
   "outputs": [
    {
     "data": {
      "text/html": [
       "<div>\n",
       "<style scoped>\n",
       "    .dataframe tbody tr th:only-of-type {\n",
       "        vertical-align: middle;\n",
       "    }\n",
       "\n",
       "    .dataframe tbody tr th {\n",
       "        vertical-align: top;\n",
       "    }\n",
       "\n",
       "    .dataframe thead th {\n",
       "        text-align: right;\n",
       "    }\n",
       "</style>\n",
       "<table border=\"1\" class=\"dataframe\">\n",
       "  <thead>\n",
       "    <tr style=\"text-align: right;\">\n",
       "      <th></th>\n",
       "      <th>production_budget</th>\n",
       "      <th>worldwide_gross</th>\n",
       "    </tr>\n",
       "  </thead>\n",
       "  <tbody>\n",
       "    <tr>\n",
       "      <th>mean</th>\n",
       "      <td>4.776346e+07</td>\n",
       "      <td>1.559654e+08</td>\n",
       "    </tr>\n",
       "    <tr>\n",
       "      <th>std</th>\n",
       "      <td>5.662385e+07</td>\n",
       "      <td>2.398887e+08</td>\n",
       "    </tr>\n",
       "  </tbody>\n",
       "</table>\n",
       "</div>"
      ],
      "text/plain": [
       "      production_budget  worldwide_gross\n",
       "mean       4.776346e+07     1.559654e+08\n",
       "std        5.662385e+07     2.398887e+08"
      ]
     },
     "execution_count": 72,
     "metadata": {},
     "output_type": "execute_result"
    }
   ],
   "source": [
    "Merged_df2[['production_budget', 'worldwide_gross']].agg(['mean', 'std'])\n"
   ]
  },
  {
   "cell_type": "code",
   "execution_count": 73,
   "metadata": {},
   "outputs": [
    {
     "data": {
      "text/plain": [
       "0.19549326164034628"
      ]
     },
     "execution_count": 73,
     "metadata": {},
     "output_type": "execute_result"
    }
   ],
   "source": [
    "Merged_df2['vote_average'].corr(Merged_df2['worldwide_gross'])"
   ]
  },
  {
   "cell_type": "code",
   "execution_count": 74,
   "metadata": {},
   "outputs": [
    {
     "data": {
      "text/html": [
       "<div>\n",
       "<style scoped>\n",
       "    .dataframe tbody tr th:only-of-type {\n",
       "        vertical-align: middle;\n",
       "    }\n",
       "\n",
       "    .dataframe tbody tr th {\n",
       "        vertical-align: top;\n",
       "    }\n",
       "\n",
       "    .dataframe thead th {\n",
       "        text-align: right;\n",
       "    }\n",
       "</style>\n",
       "<table border=\"1\" class=\"dataframe\">\n",
       "  <thead>\n",
       "    <tr style=\"text-align: right;\">\n",
       "      <th></th>\n",
       "      <th>vote_average</th>\n",
       "      <th>worldwide_gross</th>\n",
       "    </tr>\n",
       "  </thead>\n",
       "  <tbody>\n",
       "    <tr>\n",
       "      <th>mean</th>\n",
       "      <td>6.350551</td>\n",
       "      <td>1.559654e+08</td>\n",
       "    </tr>\n",
       "    <tr>\n",
       "      <th>std</th>\n",
       "      <td>0.928243</td>\n",
       "      <td>2.398887e+08</td>\n",
       "    </tr>\n",
       "  </tbody>\n",
       "</table>\n",
       "</div>"
      ],
      "text/plain": [
       "      vote_average  worldwide_gross\n",
       "mean      6.350551     1.559654e+08\n",
       "std       0.928243     2.398887e+08"
      ]
     },
     "execution_count": 74,
     "metadata": {},
     "output_type": "execute_result"
    }
   ],
   "source": [
    "Merged_df2[['vote_average', 'worldwide_gross']].agg(['mean', 'std'])"
   ]
  },
  {
   "cell_type": "code",
   "execution_count": 75,
   "metadata": {},
   "outputs": [
    {
     "data": {
      "text/html": [
       "<div>\n",
       "<style scoped>\n",
       "    .dataframe tbody tr th:only-of-type {\n",
       "        vertical-align: middle;\n",
       "    }\n",
       "\n",
       "    .dataframe tbody tr th {\n",
       "        vertical-align: top;\n",
       "    }\n",
       "\n",
       "    .dataframe thead th {\n",
       "        text-align: right;\n",
       "    }\n",
       "</style>\n",
       "<table border=\"1\" class=\"dataframe\">\n",
       "  <thead>\n",
       "    <tr style=\"text-align: right;\">\n",
       "      <th></th>\n",
       "      <th>mean</th>\n",
       "      <th>std</th>\n",
       "    </tr>\n",
       "    <tr>\n",
       "      <th>vote_category</th>\n",
       "      <th></th>\n",
       "      <th></th>\n",
       "    </tr>\n",
       "  </thead>\n",
       "  <tbody>\n",
       "    <tr>\n",
       "      <th>&lt;4</th>\n",
       "      <td>6.537915e+07</td>\n",
       "      <td>7.847499e+07</td>\n",
       "    </tr>\n",
       "    <tr>\n",
       "      <th>4-6</th>\n",
       "      <td>1.074374e+08</td>\n",
       "      <td>1.626362e+08</td>\n",
       "    </tr>\n",
       "    <tr>\n",
       "      <th>6-8</th>\n",
       "      <td>1.784518e+08</td>\n",
       "      <td>2.608339e+08</td>\n",
       "    </tr>\n",
       "    <tr>\n",
       "      <th>&gt;8</th>\n",
       "      <td>3.059060e+08</td>\n",
       "      <td>4.440334e+08</td>\n",
       "    </tr>\n",
       "  </tbody>\n",
       "</table>\n",
       "</div>"
      ],
      "text/plain": [
       "                       mean           std\n",
       "vote_category                            \n",
       "<4             6.537915e+07  7.847499e+07\n",
       "4-6            1.074374e+08  1.626362e+08\n",
       "6-8            1.784518e+08  2.608339e+08\n",
       ">8             3.059060e+08  4.440334e+08"
      ]
     },
     "execution_count": 75,
     "metadata": {},
     "output_type": "execute_result"
    }
   ],
   "source": [
    "Merged_df2.groupby('vote_category')['worldwide_gross'].agg(['mean', 'std'])"
   ]
  },
  {
   "cell_type": "code",
   "execution_count": 76,
   "metadata": {},
   "outputs": [
    {
     "name": "stdout",
     "output_type": "stream",
     "text": [
      "155965401.72362205\n",
      "67192980.5\n",
      "0.7791527956492644\n"
     ]
    }
   ],
   "source": [
    "# Calculate the mean and median of worldwide gross\n",
    "mean_ww_gross = Merged_df2['worldwide_gross'].mean()\n",
    "median_ww_gross = Merged_df2['worldwide_gross'].median()\n",
    "\n",
    "# Calculate the correlation coefficient between production budget and worldwide gross\n",
    "corr_coef = Merged_df2['production_budget'].corr(Merged_df2['worldwide_gross'])\n",
    "\n",
    "print(mean_ww_gross)\n",
    "print(median_ww_gross)\n",
    "print(corr_coef)"
   ]
  },
  {
   "cell_type": "markdown",
   "metadata": {},
   "source": [
    "Above summary statistics is just a confirmation / an indepth quantitative understanding of the relationships between these features and box office performance.these insights will be used to inform on which languages to focus on, how to allocate budgets, and what types of movies to prioritize based on their vote averages."
   ]
  },
  {
   "cell_type": "markdown",
   "metadata": {},
   "source": [
    "# Key findings Based on our analysis\n",
    "\n",
    "Original Language:\n",
    "- English is the most popular language for movie production.\n",
    "- Movies produced in English tend to have higher popularity scores compared to other languages.\n",
    "- However, movies produced in Spanish tend to have higher average ROI compared to movies produced in other languages.\n",
    "\n",
    "Return on Investment (ROI):\n",
    "- There is a weak positive correlation between a movie's budget and its worldwide gross.\n",
    "- Movies with budgets between $20 million  and  $100 million tend to have the highest ROI.\n",
    "- Movies with higher vote averages tend to have higher ROI.\n",
    "\n",
    "Vote Average:\n",
    "- There is a weak positive correlation between a movie's vote average and its worldwide gross.\n",
    "- Movies with higher vote averages tend to have higher worldwide gross earnings.\n",
    "- However, the correlation between vote average and worldwide gross is weaker for movies with budgets greater than $100 million.\n",
    "\n",
    "We do believe these insights will help inform Microsoft's decision-making in their new movie studio venture. By considering the popularity of different languages and the correlation between budget, vote average, and box office performance, Microsoft can make informed decisions about which movies to produce and invest in."
   ]
  },
  {
   "cell_type": "markdown",
   "metadata": {},
   "source": [
    "# Based on our analysis, we have the following recommendations for Microsoft:\n",
    "\n",
    "- Consider producing movies in English language since it's the most popular language but also to translate to other languages like telugu, as they tend to have higher average ROI. This could be a good strategy to diversify their portfolio and reach a wider audience.\n",
    "\n",
    "- When considering a movie's budget, it is important to note that there is a weak positive correlation between budget and worldwide gross. Therefore, it is important to balance the budget with other factors such as the movie's potential appeal to audiences and critical reception.\n",
    "\n",
    "- When deciding which movies to produce, Microsoft should pay attention to a movie's vote average as it is positively correlated with worldwide gross. However, they should also be cautious about investing in movies with extremely high budgets, as the correlation between vote average and worldwide gross is weaker for these movies.\n",
    "\n",
    "Overall, our recommendations highlight the importance of carefully balancing budget, language, and critical reception when deciding which movies to produce and invest in. By considering these factors, Microsoft can increase their chances of success in the movie industry.\n",
    "\n",
    "\n",
    "\n",
    "\n",
    "\n",
    "\n",
    "\n",
    "\n",
    "\n",
    "\n",
    "\n",
    "\n",
    "\n",
    "\n",
    "\n",
    "\n",
    "\n",
    "***End****\n",
    "\n"
   ]
  }
 ],
 "metadata": {
  "kernelspec": {
   "display_name": "Python 3 (ipykernel)",
   "language": "python",
   "name": "python3"
  },
  "language_info": {
   "codemirror_mode": {
    "name": "ipython",
    "version": 3
   },
   "file_extension": ".py",
   "mimetype": "text/x-python",
   "name": "python",
   "nbconvert_exporter": "python",
   "pygments_lexer": "ipython3",
   "version": "3.9.13"
  }
 },
 "nbformat": 4,
 "nbformat_minor": 2
}
